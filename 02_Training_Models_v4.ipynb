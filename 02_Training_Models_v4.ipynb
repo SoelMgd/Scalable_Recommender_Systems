{
 "cells": [
  {
   "cell_type": "markdown",
   "id": "d7772574-c4c3-4aa6-b034-75431bc21ca7",
   "metadata": {},
   "source": [
    "# Entraînement des modèles"
   ]
  },
  {
   "cell_type": "markdown",
   "id": "d2e4a4d3-1421-4701-a099-29a90ac8745d",
   "metadata": {},
   "source": [
    "- Ce notebook prépare les données pour l'inférence en enregistrant les features dand\n",
    "- This notebook prepares the data for inference: features are saved in the feature store and item embeddings are stored in faiss.\n",
    "- On entraine également le modèle de retrieval et de scoring pour l'inférence"
   ]
  },
  {
   "cell_type": "code",
   "execution_count": 1,
   "id": "a4478613-a1f8-4151-8528-e769f68d1e20",
   "metadata": {},
   "outputs": [
    {
     "name": "stderr",
     "output_type": "stream",
     "text": [
      "2024-09-02 12:37:02.504438: I tensorflow/core/util/port.cc:110] oneDNN custom operations are on. You may see slightly different numerical results due to floating-point round-off errors from different computation orders. To turn them off, set the environment variable `TF_ENABLE_ONEDNN_OPTS=0`.\n",
      "2024-09-02 12:37:02.563192: I tensorflow/core/platform/cpu_feature_guard.cc:183] This TensorFlow binary is optimized to use available CPU instructions in performance-critical operations.\n",
      "To enable the following instructions: SSE3 SSE4.1 SSE4.2 AVX, in other operations, rebuild TensorFlow with the appropriate compiler flags.\n"
     ]
    },
    {
     "name": "stdout",
     "output_type": "stream",
     "text": [
      "WARNING:tensorflow:Please fix your imports. Module tensorflow.python.training.tracking.data_structures has been moved to tensorflow.python.trackable.data_structures. The old module will be deleted in version 2.11.\n"
     ]
    },
    {
     "name": "stderr",
     "output_type": "stream",
     "text": [
      "/usr/local/lib/python3.10/dist-packages/merlin/dtypes/mappings/torch.py:43: UserWarning: PyTorch dtype mappings did not load successfully due to an error: No module named 'torch'\n",
      "  warn(f\"PyTorch dtype mappings did not load successfully due to an error: {exc.msg}\")\n"
     ]
    },
    {
     "name": "stdout",
     "output_type": "stream",
     "text": [
      "[SOK INFO] Import /usr/local/lib/python3.10/dist-packages/merlin_sok-2.0.0-py3.10-linux-x86_64.egg/sparse_operation_kit/lib/libsparse_operation_kit.so\n",
      "[SOK INFO] Initialize finished, communication tool: horovod\n"
     ]
    },
    {
     "name": "stderr",
     "output_type": "stream",
     "text": [
      "2024-09-02 12:37:05.968085: I tensorflow/core/common_runtime/gpu/gpu_process_state.cc:226] Using CUDA malloc Async allocator for GPU: 0\n",
      "2024-09-02 12:37:05.968293: I tensorflow/core/common_runtime/gpu/gpu_device.cc:1638] Created device /job:localhost/replica:0/task:0/device:GPU:0 with 40503 MB memory:  -> device: 0, name: NVIDIA H100 80GB HBM3, pci bus id: 0000:e4:00.0, compute capability: 9.0\n",
      "/usr/local/lib/python3.10/dist-packages/tqdm/auto.py:21: TqdmWarning: IProgress not found. Please update jupyter and ipywidgets. See https://ipywidgets.readthedocs.io/en/stable/user_install.html\n",
      "  from .autonotebook import tqdm as notebook_tqdm\n"
     ]
    }
   ],
   "source": [
    "import os\n",
    "import gc\n",
    "import glob\n",
    "os.environ[\"TF_GPU_ALLOCATOR\"]=\"cuda_malloc_async\"\n",
    "\n",
    "import nvtabular as nvt\n",
    "from nvtabular.ops import *\n",
    "import numpy as np\n",
    "\n",
    "from merlin.models.utils.example_utils import workflow_fit_transform\n",
    "from merlin.schema.tags import Tags\n",
    "from merlin.models.utils.dataset import unique_rows_by_features\n",
    "\n",
    "import merlin.models.tf as mm\n",
    "from merlin.io.dataset import Dataset\n",
    "import tensorflow as tf"
   ]
  },
  {
   "cell_type": "code",
   "execution_count": 2,
   "id": "074be009-e718-453d-b453-3fc2e2cad993",
   "metadata": {},
   "outputs": [],
   "source": [
    "# disable INFO and DEBUG logging everywhere\n",
    "import logging\n",
    "logging.disable(logging.WARNING)"
   ]
  },
  {
   "cell_type": "code",
   "execution_count": 3,
   "id": "bbf1a39d-c4a5-4359-aebe-63a294f0ec95",
   "metadata": {},
   "outputs": [
    {
     "data": {
      "text/plain": [
       "<module 'cudf' from '/usr/local/lib/python3.10/dist-packages/cudf/__init__.py'>"
      ]
     },
     "execution_count": 3,
     "metadata": {},
     "output_type": "execute_result"
    }
   ],
   "source": [
    "INPUT_DATA_DIR = os.environ.get(\"INPUT_DATA_DIR\", \"/root/Data/Row/\")\n",
    "DATA_FOLDER = os.environ.get(\"DATA_FOLDER\", \"/root/Data/\")\n",
    "MODELS_FOLDER = os.environ.get(\"MODELS\", \"/root/Models/\")\n",
    "PROCESSED_FOLDER = os.environ.get(\"PROCESSED_FOLDER\", \"/root/Data/Processed/\")\n",
    "feature_repo_path = os.environ.get(\"FEAST_PATH\", \"/root/Data/feast_repo/feature_repo\")\n",
    "\n",
    "BATCH_SIZE = int(os.environ.get(\"BATCH_SIZE\", 512))\n",
    "from merlin.core.dispatch import get_lib\n",
    "df_lib = get_lib()\n",
    "df_lib"
   ]
  },
  {
   "cell_type": "markdown",
   "id": "12a6b784-5d56-42cc-902e-fe9440e5094d",
   "metadata": {},
   "source": [
    "## Chargement des datasets issues du notebook 01"
   ]
  },
  {
   "cell_type": "code",
   "execution_count": 4,
   "id": "be0e9842-a9d4-43d4-a1ec-7c698fa98b55",
   "metadata": {},
   "outputs": [
    {
     "name": "stderr",
     "output_type": "stream",
     "text": [
      "/usr/local/lib/python3.10/dist-packages/merlin/io/parquet.py:343: UserWarning: Row group memory size (134160000) (bytes) of parquet file is bigger than requested part_size (128000000) for the NVTabular dataset.A row group memory size of 128 MB is generally recommended. You can find info on how to set the row group size of parquet files in https://nvidia-merlin.github.io/NVTabular/main/resources/troubleshooting.html#setting-the-row-group-size-for-the-parquet-files\n",
      "  warnings.warn(\n"
     ]
    }
   ],
   "source": [
    "train_numeric = Dataset(os.path.join(PROCESSED_FOLDER, \"train_numeric\", \"*.parquet\"), part_size=\"128MB\")\n",
    "test_numeric = Dataset(os.path.join(PROCESSED_FOLDER, \"test_numeric\", \"*.parquet\"), part_size=\"128MB\")\n",
    "#dataset = Dataset(os.path.join(PROCESSED_FOLDER, \"dataset_numeric\", \"*.parquet\"))"
   ]
  },
  {
   "cell_type": "code",
   "execution_count": 6,
   "id": "a945fc54-ba19-4a2a-a873-2a5c560891e4",
   "metadata": {},
   "outputs": [],
   "source": [
    "train_numeric.compute().to_csv(os.path.join(DATA_FOLDER, \"Plot/train_numeric\"))\n",
    "test_numeric.compute().to_csv(os.path.join(DATA_FOLDER, \"Plot/test_numeric\"))"
   ]
  },
  {
   "cell_type": "markdown",
   "id": "352bd273-3f31-403a-b491-6173f04b5a2e",
   "metadata": {},
   "source": [
    "## Export des features cliens et produits"
   ]
  },
  {
   "cell_type": "markdown",
   "id": "c0d0cae2-e190-4473-bc1f-d46fdb86af8e",
   "metadata": {},
   "source": [
    "### Préparation du Feast feature store"
   ]
  },
  {
   "cell_type": "code",
   "execution_count": 2,
   "id": "c4f06e00-84b0-4531-acff-289b16a7cafd",
   "metadata": {},
   "outputs": [],
   "source": [
    "# for running this example on GPU, install the following libraries\n",
    "#%pip install \"feast==0.31\" faiss-gpu\n",
    "\n",
    "# for running this example on CPU, uncomment the following lines\n",
    "# %pip install tensorflow-cpu \"feast==0.31\" faiss-cpu\n",
    "# %pip uninstall cudf"
   ]
  },
  {
   "cell_type": "code",
   "execution_count": 20,
   "id": "040e4f2c-905d-430a-8200-8d096e344ee3",
   "metadata": {},
   "outputs": [
    {
     "name": "stdout",
     "output_type": "stream",
     "text": [
      "/usr/local/lib/python3.10/dist-packages/feast/repo_operations.py:370: DeprecationWarning: The distutils package is deprecated and slated for removal in Python 3.12. Use setuptools or check PEP 632 for potential alternatives\n",
      "  from distutils.dir_util import copy_tree\n",
      "\n",
      "Creating a new Feast repository in \u001b[1m\u001b[32m/root/Data/feast_repo\u001b[0m.\n",
      "\n"
     ]
    }
   ],
   "source": [
    "#!rm -rf $DATA_FOLDER/feast_repo\n",
    "!cd $DATA_FOLDER && feast init feast_repo"
   ]
  },
  {
   "cell_type": "code",
   "execution_count": 21,
   "id": "17665e2f-2905-4436-b0a3-fe6e726ca8a2",
   "metadata": {},
   "outputs": [],
   "source": [
    "feature_repo_path = os.path.join(DATA_FOLDER, \"feast_repo/feature_repo\")\n",
    "if os.path.exists(f\"{feature_repo_path}/example_repo.py\"):\n",
    "    os.remove(f\"{feature_repo_path}/example_repo.py\")\n",
    "if os.path.exists(f\"{feature_repo_path}/data/driver_stats.parquet\"):\n",
    "    os.remove(f\"{feature_repo_path}/data/driver_stats.parquet\")"
   ]
  },
  {
   "cell_type": "markdown",
   "id": "6a893c0b-4782-4ba7-a2a0-d9cf7ad37f9b",
   "metadata": {},
   "source": [
    "### Extraction des features"
   ]
  },
  {
   "cell_type": "code",
   "execution_count": 22,
   "id": "739e67b1-e9db-47a0-a36e-75da4f085929",
   "metadata": {},
   "outputs": [
    {
     "data": {
      "text/html": [
       "<div>\n",
       "<style scoped>\n",
       "    .dataframe tbody tr th:only-of-type {\n",
       "        vertical-align: middle;\n",
       "    }\n",
       "\n",
       "    .dataframe tbody tr th {\n",
       "        vertical-align: top;\n",
       "    }\n",
       "\n",
       "    .dataframe thead th {\n",
       "        text-align: right;\n",
       "    }\n",
       "</style>\n",
       "<table border=\"1\" class=\"dataframe\">\n",
       "  <thead>\n",
       "    <tr style=\"text-align: right;\">\n",
       "      <th></th>\n",
       "      <th>item_id</th>\n",
       "      <th>product_code</th>\n",
       "      <th>prod_name</th>\n",
       "      <th>product_type_no</th>\n",
       "      <th>product_group_name</th>\n",
       "      <th>graphical_appearance_no</th>\n",
       "      <th>colour_group_code</th>\n",
       "      <th>perceived_colour_value_id</th>\n",
       "      <th>perceived_colour_master_id</th>\n",
       "      <th>department_no</th>\n",
       "      <th>index_code</th>\n",
       "      <th>index_group_no</th>\n",
       "      <th>section_no</th>\n",
       "      <th>garment_group_no</th>\n",
       "      <th>detail_desc</th>\n",
       "      <th>count_30d_purchased</th>\n",
       "      <th>count_7d_purchased</th>\n",
       "      <th>Time_Weighted_Purchased</th>\n",
       "      <th>datetime</th>\n",
       "      <th>created</th>\n",
       "    </tr>\n",
       "  </thead>\n",
       "  <tbody>\n",
       "    <tr>\n",
       "      <th>0</th>\n",
       "      <td>108775044</td>\n",
       "      <td>108775</td>\n",
       "      <td>7015</td>\n",
       "      <td>253</td>\n",
       "      <td>3</td>\n",
       "      <td>1010016</td>\n",
       "      <td>10</td>\n",
       "      <td>3</td>\n",
       "      <td>9</td>\n",
       "      <td>1676</td>\n",
       "      <td>3</td>\n",
       "      <td>1</td>\n",
       "      <td>16</td>\n",
       "      <td>1002</td>\n",
       "      <td>6407</td>\n",
       "      <td>20</td>\n",
       "      <td>8</td>\n",
       "      <td>15.539194</td>\n",
       "      <td>2024-08-30 11:45:29.605883</td>\n",
       "      <td>2024-08-30 11:45:29.606841</td>\n",
       "    </tr>\n",
       "    <tr>\n",
       "      <th>1</th>\n",
       "      <td>111565001</td>\n",
       "      <td>111565</td>\n",
       "      <td>2190</td>\n",
       "      <td>304</td>\n",
       "      <td>9</td>\n",
       "      <td>1010016</td>\n",
       "      <td>9</td>\n",
       "      <td>4</td>\n",
       "      <td>5</td>\n",
       "      <td>3608</td>\n",
       "      <td>5</td>\n",
       "      <td>1</td>\n",
       "      <td>62</td>\n",
       "      <td>1021</td>\n",
       "      <td>2116</td>\n",
       "      <td>73</td>\n",
       "      <td>32</td>\n",
       "      <td>18.450956</td>\n",
       "      <td>2024-08-30 11:45:29.605883</td>\n",
       "      <td>2024-08-30 11:45:29.606841</td>\n",
       "    </tr>\n",
       "    <tr>\n",
       "      <th>2</th>\n",
       "      <td>111586001</td>\n",
       "      <td>111586</td>\n",
       "      <td>1088</td>\n",
       "      <td>273</td>\n",
       "      <td>4</td>\n",
       "      <td>1010016</td>\n",
       "      <td>9</td>\n",
       "      <td>4</td>\n",
       "      <td>5</td>\n",
       "      <td>3608</td>\n",
       "      <td>5</td>\n",
       "      <td>1</td>\n",
       "      <td>62</td>\n",
       "      <td>1021</td>\n",
       "      <td>1086</td>\n",
       "      <td>125</td>\n",
       "      <td>82</td>\n",
       "      <td>44.397659</td>\n",
       "      <td>2024-08-30 11:45:29.605883</td>\n",
       "      <td>2024-08-30 11:45:29.606841</td>\n",
       "    </tr>\n",
       "    <tr>\n",
       "      <th>3</th>\n",
       "      <td>111593001</td>\n",
       "      <td>111593</td>\n",
       "      <td>1157</td>\n",
       "      <td>304</td>\n",
       "      <td>9</td>\n",
       "      <td>1010016</td>\n",
       "      <td>9</td>\n",
       "      <td>4</td>\n",
       "      <td>5</td>\n",
       "      <td>3608</td>\n",
       "      <td>5</td>\n",
       "      <td>1</td>\n",
       "      <td>62</td>\n",
       "      <td>1021</td>\n",
       "      <td>1150</td>\n",
       "      <td>140</td>\n",
       "      <td>97</td>\n",
       "      <td>40.496376</td>\n",
       "      <td>2024-08-30 11:45:29.605883</td>\n",
       "      <td>2024-08-30 11:45:29.606841</td>\n",
       "    </tr>\n",
       "    <tr>\n",
       "      <th>4</th>\n",
       "      <td>111609001</td>\n",
       "      <td>111609</td>\n",
       "      <td>3122</td>\n",
       "      <td>304</td>\n",
       "      <td>9</td>\n",
       "      <td>1010016</td>\n",
       "      <td>9</td>\n",
       "      <td>4</td>\n",
       "      <td>5</td>\n",
       "      <td>3608</td>\n",
       "      <td>5</td>\n",
       "      <td>1</td>\n",
       "      <td>62</td>\n",
       "      <td>1021</td>\n",
       "      <td>2971</td>\n",
       "      <td>58</td>\n",
       "      <td>31</td>\n",
       "      <td>10.355453</td>\n",
       "      <td>2024-08-30 11:45:29.605883</td>\n",
       "      <td>2024-08-30 11:45:29.606841</td>\n",
       "    </tr>\n",
       "  </tbody>\n",
       "</table>\n",
       "</div>"
      ],
      "text/plain": [
       "     item_id  product_code  prod_name  product_type_no  product_group_name  \\\n",
       "0  108775044        108775       7015              253                   3   \n",
       "1  111565001        111565       2190              304                   9   \n",
       "2  111586001        111586       1088              273                   4   \n",
       "3  111593001        111593       1157              304                   9   \n",
       "4  111609001        111609       3122              304                   9   \n",
       "\n",
       "   graphical_appearance_no  colour_group_code  perceived_colour_value_id  \\\n",
       "0                  1010016                 10                          3   \n",
       "1                  1010016                  9                          4   \n",
       "2                  1010016                  9                          4   \n",
       "3                  1010016                  9                          4   \n",
       "4                  1010016                  9                          4   \n",
       "\n",
       "   perceived_colour_master_id  department_no  index_code  index_group_no  \\\n",
       "0                           9           1676           3               1   \n",
       "1                           5           3608           5               1   \n",
       "2                           5           3608           5               1   \n",
       "3                           5           3608           5               1   \n",
       "4                           5           3608           5               1   \n",
       "\n",
       "   section_no  garment_group_no  detail_desc  count_30d_purchased  \\\n",
       "0          16              1002         6407                   20   \n",
       "1          62              1021         2116                   73   \n",
       "2          62              1021         1086                  125   \n",
       "3          62              1021         1150                  140   \n",
       "4          62              1021         2971                   58   \n",
       "\n",
       "   count_7d_purchased  Time_Weighted_Purchased                   datetime  \\\n",
       "0                   8                15.539194 2024-08-30 11:45:29.605883   \n",
       "1                  32                18.450956 2024-08-30 11:45:29.605883   \n",
       "2                  82                44.397659 2024-08-30 11:45:29.605883   \n",
       "3                  97                40.496376 2024-08-30 11:45:29.605883   \n",
       "4                  31                10.355453 2024-08-30 11:45:29.605883   \n",
       "\n",
       "                     created  \n",
       "0 2024-08-30 11:45:29.606841  \n",
       "1 2024-08-30 11:45:29.606841  \n",
       "2 2024-08-30 11:45:29.606841  \n",
       "3 2024-08-30 11:45:29.606841  \n",
       "4 2024-08-30 11:45:29.606841  "
      ]
     },
     "execution_count": 22,
     "metadata": {},
     "output_type": "execute_result"
    }
   ],
   "source": [
    "from datetime import datetime\n",
    "\n",
    "#Extract unique rows for users\n",
    "user_features = (\n",
    "    unique_rows_by_features(train_numeric, Tags.USER, Tags.USER_ID)\n",
    "    .compute()\n",
    "    .reset_index(drop=True)\n",
    ")\n",
    "\n",
    "user_features[\"datetime\"] = datetime.now()\n",
    "user_features[\"datetime\"] = user_features[\"datetime\"].astype(\"datetime64[ns]\")\n",
    "user_features[\"created\"] = datetime.now()\n",
    "user_features[\"created\"] = user_features[\"created\"].astype(\"datetime64[ns]\")\n",
    "\n",
    "#Store in feast folder\n",
    "user_features.to_parquet(\n",
    "    os.path.join(feature_repo_path, \"data\", \"user_features.parquet\")\n",
    ")\n",
    "\n",
    "\n",
    "## Same for Items\n",
    "item_features = (\n",
    "    unique_rows_by_features(train_numeric, Tags.ITEM, Tags.ITEM_ID)\n",
    "    .compute()\n",
    "    .reset_index(drop=True)\n",
    ")\n",
    "item_features[\"datetime\"] = datetime.now()\n",
    "item_features[\"datetime\"] = item_features[\"datetime\"].astype(\"datetime64[ns]\")\n",
    "item_features[\"created\"] = datetime.now()\n",
    "item_features[\"created\"] = item_features[\"created\"].astype(\"datetime64[ns]\")\n",
    "\n",
    "item_features.to_parquet(\n",
    "    os.path.join(feature_repo_path, \"data\", \"item_features.parquet\")\n",
    ")\n",
    "\n",
    "item_features.head()"
   ]
  },
  {
   "cell_type": "code",
   "execution_count": 23,
   "id": "54cfeef5-1bb7-4f70-8352-f063f5602662",
   "metadata": {},
   "outputs": [
    {
     "data": {
      "text/html": [
       "<div>\n",
       "<style scoped>\n",
       "    .dataframe tbody tr th:only-of-type {\n",
       "        vertical-align: middle;\n",
       "    }\n",
       "\n",
       "    .dataframe tbody tr th {\n",
       "        vertical-align: top;\n",
       "    }\n",
       "\n",
       "    .dataframe thead th {\n",
       "        text-align: right;\n",
       "    }\n",
       "</style>\n",
       "<table border=\"1\" class=\"dataframe\">\n",
       "  <thead>\n",
       "    <tr style=\"text-align: right;\">\n",
       "      <th></th>\n",
       "      <th>user_id</th>\n",
       "      <th>FN</th>\n",
       "      <th>Active</th>\n",
       "      <th>club_member_status</th>\n",
       "      <th>fashion_news_frequency</th>\n",
       "      <th>age</th>\n",
       "      <th>postal_code</th>\n",
       "      <th>recency</th>\n",
       "      <th>frequency</th>\n",
       "      <th>amount</th>\n",
       "      <th>...</th>\n",
       "      <th>popular_department_no</th>\n",
       "      <th>2nd_popular_department_no</th>\n",
       "      <th>popular_section_no</th>\n",
       "      <th>2nd_popular_section_no</th>\n",
       "      <th>last_product_code</th>\n",
       "      <th>2nd_last_product_code</th>\n",
       "      <th>last_product_type</th>\n",
       "      <th>2nd_last_product_type</th>\n",
       "      <th>datetime</th>\n",
       "      <th>created</th>\n",
       "    </tr>\n",
       "  </thead>\n",
       "  <tbody>\n",
       "    <tr>\n",
       "      <th>0</th>\n",
       "      <td>3</td>\n",
       "      <td>3</td>\n",
       "      <td>3</td>\n",
       "      <td>3</td>\n",
       "      <td>3</td>\n",
       "      <td>21</td>\n",
       "      <td>5</td>\n",
       "      <td>75</td>\n",
       "      <td>0.17</td>\n",
       "      <td>0.018846</td>\n",
       "      <td>...</td>\n",
       "      <td>1313</td>\n",
       "      <td>7854</td>\n",
       "      <td>11</td>\n",
       "      <td>48</td>\n",
       "      <td>618287</td>\n",
       "      <td>794389</td>\n",
       "      <td>265</td>\n",
       "      <td>265</td>\n",
       "      <td>2024-08-30 11:45:29.404242</td>\n",
       "      <td>2024-08-30 11:45:29.440340</td>\n",
       "    </tr>\n",
       "    <tr>\n",
       "      <th>1</th>\n",
       "      <td>4</td>\n",
       "      <td>4</td>\n",
       "      <td>4</td>\n",
       "      <td>3</td>\n",
       "      <td>4</td>\n",
       "      <td>24</td>\n",
       "      <td>30</td>\n",
       "      <td>20</td>\n",
       "      <td>1.16</td>\n",
       "      <td>0.019971</td>\n",
       "      <td>...</td>\n",
       "      <td>1322</td>\n",
       "      <td>1343</td>\n",
       "      <td>15</td>\n",
       "      <td>53</td>\n",
       "      <td>829017</td>\n",
       "      <td>764895</td>\n",
       "      <td>265</td>\n",
       "      <td>265</td>\n",
       "      <td>2024-08-30 11:45:29.404242</td>\n",
       "      <td>2024-08-30 11:45:29.440340</td>\n",
       "    </tr>\n",
       "  </tbody>\n",
       "</table>\n",
       "<p>2 rows × 22 columns</p>\n",
       "</div>"
      ],
      "text/plain": [
       "   user_id  FN  Active  club_member_status  fashion_news_frequency  age  \\\n",
       "0        3   3       3                   3                       3   21   \n",
       "1        4   4       4                   3                       4   24   \n",
       "\n",
       "   postal_code  recency  frequency    amount  ...  popular_department_no  \\\n",
       "0            5       75       0.17  0.018846  ...                   1313   \n",
       "1           30       20       1.16  0.019971  ...                   1322   \n",
       "\n",
       "   2nd_popular_department_no  popular_section_no  2nd_popular_section_no  \\\n",
       "0                       7854                  11                      48   \n",
       "1                       1343                  15                      53   \n",
       "\n",
       "   last_product_code  2nd_last_product_code  last_product_type  \\\n",
       "0             618287                 794389                265   \n",
       "1             829017                 764895                265   \n",
       "\n",
       "   2nd_last_product_type                   datetime                    created  \n",
       "0                    265 2024-08-30 11:45:29.404242 2024-08-30 11:45:29.440340  \n",
       "1                    265 2024-08-30 11:45:29.404242 2024-08-30 11:45:29.440340  \n",
       "\n",
       "[2 rows x 22 columns]"
      ]
     },
     "execution_count": 23,
     "metadata": {},
     "output_type": "execute_result"
    }
   ],
   "source": [
    "user_features.head(2)"
   ]
  },
  {
   "cell_type": "markdown",
   "id": "45738e89-b535-45e2-9fe3-4097537857b3",
   "metadata": {},
   "source": [
    "### Définition des features pour Feast"
   ]
  },
  {
   "cell_type": "code",
   "execution_count": 24,
   "id": "f2514582-758d-42ed-9bab-a1ecc7f3be0a",
   "metadata": {},
   "outputs": [
    {
     "data": {
      "text/plain": [
       "item_id                                int32\n",
       "product_code                           int32\n",
       "prod_name                              int32\n",
       "product_type_no                        int32\n",
       "product_group_name                     int32\n",
       "graphical_appearance_no                int32\n",
       "colour_group_code                      int32\n",
       "perceived_colour_value_id              int32\n",
       "perceived_colour_master_id             int32\n",
       "department_no                          int32\n",
       "index_code                             int32\n",
       "index_group_no                         int32\n",
       "section_no                             int32\n",
       "garment_group_no                       int32\n",
       "detail_desc                            int32\n",
       "count_30d_purchased                    int32\n",
       "count_7d_purchased                     int32\n",
       "Time_Weighted_Purchased              float32\n",
       "datetime                      datetime64[ns]\n",
       "created                       datetime64[ns]\n",
       "dtype: object"
      ]
     },
     "execution_count": 24,
     "metadata": {},
     "output_type": "execute_result"
    }
   ],
   "source": [
    "item_features.dtypes"
   ]
  },
  {
   "cell_type": "code",
   "execution_count": 25,
   "id": "b4ad6829-eff7-417d-835f-9a49dcbb00c0",
   "metadata": {},
   "outputs": [],
   "source": [
    "file = open(os.path.join(feature_repo_path, \"item_features.py\"), \"w\")\n",
    "file.write(\n",
    "        \"\"\"\n",
    "from datetime import timedelta\n",
    "from feast import Entity, Field, FeatureView, ValueType\n",
    "from feast.types import Int32, Float32\n",
    "from feast.infra.offline_stores.file_source import FileSource\n",
    "\n",
    "item_features = FileSource(\n",
    "    path=\"{}\",\n",
    "    timestamp_field=\"datetime\",\n",
    "    created_timestamp_column=\"created\",\n",
    ")\n",
    "\n",
    "item = Entity(name=\"item_id\", value_type=ValueType.INT32, join_keys=[\"item_id\"],)\n",
    "\n",
    "item_features_view = FeatureView(\n",
    "    name=\"item_features\",\n",
    "    entities=[item],\n",
    "    ttl=timedelta(0),\n",
    "    schema=[\n",
    "        Field(name=\"product_code\", dtype=Int32),\n",
    "        Field(name=\"prod_name\", dtype=Int32),\n",
    "        Field(name=\"product_type_no\", dtype=Int32),\n",
    "        Field(name=\"product_group_name\", dtype=Int32),\n",
    "        Field(name=\"graphical_appearance_no\", dtype=Int32),\n",
    "        Field(name=\"colour_group_code\", dtype=Int32),\n",
    "        Field(name=\"perceived_colour_value_id\", dtype=Int32),\n",
    "        Field(name=\"perceived_colour_master_id\", dtype=Int32),\n",
    "        Field(name=\"department_no\", dtype=Int32),\n",
    "        Field(name=\"index_code\", dtype=Int32),\n",
    "        Field(name=\"index_group_no\", dtype=Int32),\n",
    "    \tField(name=\"section_no\", dtype=Int32),\n",
    "    \tField(name=\"garment_group_no\", dtype=Int32),\n",
    "        Field(name=\"detail_desc\", dtype=Int32),\n",
    "        Field(name=\"count_30d_purchased\", dtype=Int32),\n",
    "        Field(name=\"count_7d_purchased\", dtype=Int32),\n",
    "        Field(name=\"Time_Weighted_Purchased\", dtype=Float32),\n",
    "    ],\n",
    "    online=True,\n",
    "    source=item_features,\n",
    "    tags=dict(),\n",
    ")\n",
    "\"\"\".format(\n",
    "            os.path.join(feature_repo_path, \"data/\", \"item_features.parquet\")\n",
    "        )\n",
    "    )\n",
    "file.close()"
   ]
  },
  {
   "cell_type": "code",
   "execution_count": 26,
   "id": "afe3b861-5eb7-4167-a928-35b65a86f435",
   "metadata": {},
   "outputs": [
    {
     "data": {
      "text/plain": [
       "user_id                               int32\n",
       "FN                                    int32\n",
       "Active                                int32\n",
       "club_member_status                    int32\n",
       "fashion_news_frequency                int32\n",
       "age                                   int32\n",
       "postal_code                           int32\n",
       "recency                               int32\n",
       "frequency                           float32\n",
       "amount                              float32\n",
       "popular_product_type                  int32\n",
       "2nd_popular_product_type              int32\n",
       "popular_department_no                 int32\n",
       "2nd_popular_department_no             int32\n",
       "popular_section_no                    int32\n",
       "2nd_popular_section_no                int32\n",
       "last_product_code                     int32\n",
       "2nd_last_product_code                 int32\n",
       "last_product_type                     int32\n",
       "2nd_last_product_type                 int32\n",
       "datetime                     datetime64[ns]\n",
       "created                      datetime64[ns]\n",
       "dtype: object"
      ]
     },
     "execution_count": 26,
     "metadata": {},
     "output_type": "execute_result"
    }
   ],
   "source": [
    "user_features.dtypes"
   ]
  },
  {
   "cell_type": "code",
   "execution_count": 27,
   "id": "6a8ded16-6d08-42b2-b488-600dd310c8d1",
   "metadata": {},
   "outputs": [],
   "source": [
    "f = open(os.path.join(feature_repo_path, \"user_features.py\"), \"w\")\n",
    "f.write(\n",
    "    \"\"\"\n",
    "from datetime import timedelta\n",
    "from feast import Entity, Field, FeatureView, ValueType\n",
    "from feast.types import Int32, Float32\n",
    "from feast.infra.offline_stores.file_source import FileSource\n",
    "\n",
    "user_features = FileSource(\n",
    "    path=\"{}\",\n",
    "    timestamp_field=\"datetime\",\n",
    "    created_timestamp_column=\"created\",\n",
    ")\n",
    "\n",
    "user = Entity(name=\"user_id\", value_type=ValueType.INT32, join_keys=[\"user_id\"],)\n",
    "\n",
    "user_features_view = FeatureView(\n",
    "    name=\"user_features\",\n",
    "    entities=[user],\n",
    "    ttl=timedelta(0),\n",
    "    schema=[\n",
    "        Field(name=\"FN\", dtype=Int32),\n",
    "        Field(name=\"Active\", dtype=Int32),\n",
    "        Field(name=\"club_member_status\", dtype=Int32),\n",
    "        Field(name=\"fashion_news_frequency\", dtype=Int32),\n",
    "        Field(name=\"age\", dtype=Int32),\n",
    "        Field(name=\"postal_code\", dtype=Int32),\n",
    "        Field(name=\"recency\", dtype=Int32),\n",
    "        Field(name=\"frequency\", dtype=Float32),\n",
    "        Field(name=\"amount\", dtype=Float32),\n",
    "        Field(name=\"popular_product_type\", dtype=Int32),\n",
    "        Field(name=\"2nd_popular_product_type\", dtype=Int32),\n",
    "        Field(name=\"popular_department_no\", dtype=Int32),\n",
    "        Field(name=\"2nd_popular_department_no\", dtype=Int32),\n",
    "        Field(name=\"popular_section_no\", dtype=Int32),\n",
    "        Field(name=\"2nd_popular_section_no\", dtype=Int32),\n",
    "        Field(name=\"last_product_code\", dtype=Int32),\n",
    "        Field(name=\"2nd_last_product_code\", dtype=Int32),\n",
    "        Field(name=\"last_product_type\", dtype=Int32),\n",
    "        Field(name=\"2nd_last_product_type\", dtype=Int32),\n",
    "    ],\n",
    "    online=True,\n",
    "    source=user_features,\n",
    "    tags=dict(),\n",
    ")\n",
    "\"\"\".format(\n",
    "        os.path.join(feature_repo_path, \"data/\", \"user_features.parquet\")\n",
    "    )\n",
    ")\n",
    "f.close()"
   ]
  },
  {
   "cell_type": "markdown",
   "id": "ac88cfca-9302-4821-a4ff-678ef73a7f7b",
   "metadata": {},
   "source": [
    "## Pre-processing avec Nvtabular"
   ]
  },
  {
   "cell_type": "markdown",
   "id": "2e4b0695-5f7c-4aea-98b3-ad4b176d60ca",
   "metadata": {},
   "source": [
    "Définition des features et des workflows"
   ]
  },
  {
   "cell_type": "markdown",
   "id": "510f8843-2e78-4e3c-acf0-defaf5adf0a0",
   "metadata": {},
   "source": [
    "#Item columns for Nvtabular workflow\n",
    "cat_item_features = ['product_code', 'prod_name', 'product_type_no', 'graphical_appearance_no', 'colour_group_code', 'product_group_name',\n",
    "       'perceived_colour_value_id', 'perceived_colour_master_id',\n",
    "       'department_no', 'index_code', 'index_group_no', 'section_no',\n",
    "       'garment_group_no', 'detail_desc', 'count_30d_purchased',\n",
    "       'count_7d_purchased'] #'product_group_name'\n",
    "float_item_features = ['Time_Weighted_Purchased']\n",
    "\n",
    "#User columns\n",
    "cat_user_features = ['FN', 'Active', 'club_member_status',\n",
    "       'fashion_news_frequency', 'age', 'postal_code', 'popular_product_type', '2nd_popular_product_type',\n",
    "       'popular_department_no', '2nd_popular_department_no',\n",
    "       'popular_section_no', '2nd_popular_section_no', 'last_product_code',\n",
    "       '2nd_last_product_code',\n",
    "       'last_product_type', '2nd_last_product_type', 'recency']\n",
    "float_user_features = ['frequency', 'amount']"
   ]
  },
  {
   "cell_type": "code",
   "execution_count": 4,
   "id": "88a53314-8570-4889-9dd0-63e8d0048414",
   "metadata": {},
   "outputs": [],
   "source": [
    "#Item columns for Nvtabular workflow\n",
    "cat_item_features = ['product_code', 'prod_name', 'product_type_no', 'graphical_appearance_no', 'colour_group_code', 'product_group_name',\n",
    "       'perceived_colour_value_id', 'perceived_colour_master_id',\n",
    "       'department_no', 'index_code', 'index_group_no', 'section_no',\n",
    "       'garment_group_no', 'detail_desc']\n",
    "float_item_features = ['Time_Weighted_Purchased', 'count_7d_purchased', 'count_30d_purchased']\n",
    "\n",
    "#User columns\n",
    "cat_user_features = ['FN', 'Active', 'club_member_status',\n",
    "       'fashion_news_frequency', 'postal_code', 'popular_product_type', '2nd_popular_product_type',\n",
    "       'popular_department_no', '2nd_popular_department_no',\n",
    "       'popular_section_no', '2nd_popular_section_no', 'last_product_code',\n",
    "       '2nd_last_product_code',\n",
    "       'last_product_type', '2nd_last_product_type']\n",
    "float_user_features = ['age', 'frequency', 'amount', 'recency']"
   ]
  },
  {
   "cell_type": "code",
   "execution_count": 5,
   "id": "11a92304-5738-452f-b14f-fd76ed3ad465",
   "metadata": {},
   "outputs": [],
   "source": [
    "#train_numeric.schema"
   ]
  },
  {
   "cell_type": "code",
   "execution_count": 10,
   "id": "1a040a75-36a1-4bc2-8955-6e15b692bb5a",
   "metadata": {},
   "outputs": [
    {
     "name": "stdout",
     "output_type": "stream",
     "text": [
      "CPU times: user 7.01 s, sys: 1.38 s, total: 8.39 s\n",
      "Wall time: 10.6 s\n"
     ]
    }
   ],
   "source": [
    "%%time\n",
    "from merlin.dag.ops.subgraph import Subgraph\n",
    "category_temp_directory = os.path.join(DATA_FOLDER, \"Processed/categories\")\n",
    "\n",
    "\n",
    "#Adding tags and categorify\n",
    "user_id = [\"user_id\"] >> TagAsUserID() >> AddTags(tags='USER_ID')\n",
    "user_features_cat = cat_user_features >> Categorify(dtype='int32', out_path=category_temp_directory) >> TagAsUserFeatures() >> AddTags(tags='CATEGORICAL')\n",
    "user_features_float = float_user_features >> Normalize() >> ReduceDtypeSize() >> TagAsUserFeatures() >> AddTags(tags='CONTINUOUS')\n",
    "\n",
    "item_id = [\"item_id\"] >> TagAsItemID() >> AddTags(tags='ITEM_ID')\n",
    "item_features_cat = cat_item_features  >>  Categorify(dtype='int32', out_path=category_temp_directory) >> TagAsItemFeatures() >> AddTags(tags='CATEGORICAL')  \n",
    "item_features_float = float_item_features >> Normalize() >> ReduceDtypeSize() >> TagAsItemFeatures() >> AddTags(tags='CONTINUOUS')\n",
    "\n",
    "subgraph_item = Subgraph(\n",
    "     \"item\", \n",
    "     Subgraph(\"item_id_sg\", item_id) + \n",
    "    Subgraph(\"item_features_cat_sg\", item_features_cat) + \n",
    "    Subgraph(\"item_features_float_sg\", item_features_float))\n",
    "\n",
    "subgraph_user = Subgraph(\n",
    "     \"user\", \n",
    "     Subgraph(\"user_id_sg\", user_id) + \n",
    "    Subgraph(\"user_features_cat_sg\", user_features_cat) +\n",
    "    Subgraph(\"user_features_float_sg\", user_features_float))\n",
    "\n",
    "targets = [\"Target\"] >> AddMetadata(tags=[Tags.BINARY_CLASSIFICATION, \"target\"])\n",
    "\n",
    "outputs = subgraph_item + subgraph_user + targets\n",
    "#outputs = outputs >> Dropna()\n",
    "\n",
    "# Create and run workflow\n",
    "workflow = nvt.Workflow(outputs)\n",
    "\n",
    "\n",
    "workflow.fit_transform(train_numeric).to_parquet(DATA_FOLDER+'/Processed/train_processed')\n",
    "workflow.transform(test_numeric).to_parquet(DATA_FOLDER+'/Processed/test_processed')"
   ]
  },
  {
   "cell_type": "markdown",
   "id": "93b5c836-f12e-48aa-aa6f-fe104fbea36f",
   "metadata": {},
   "source": [
    "Enregistrement du workflow pour Triton plus tard"
   ]
  },
  {
   "cell_type": "code",
   "execution_count": 11,
   "id": "61d8e4b6-ff73-4465-abe6-fe6befc3a78a",
   "metadata": {},
   "outputs": [],
   "source": [
    "workflow.save(os.path.join(MODELS_FOLDER, \"general_workflow\"))"
   ]
  },
  {
   "cell_type": "markdown",
   "id": "9039386f-4d70-44cd-9662-6f851d29341d",
   "metadata": {},
   "source": [
    "On peut supprimer les datasets dont on n'a plus besoin"
   ]
  },
  {
   "cell_type": "code",
   "execution_count": 16,
   "id": "7efc91d0-187c-4484-adaa-965311365c8b",
   "metadata": {},
   "outputs": [],
   "source": [
    "import shutil\n",
    "shutil.rmtree('/root/Data/Processed/dataset_numeric')\n",
    "shutil.rmtree('/root/Data/Processed/train_numeric')\n",
    "shutil.rmtree('/root/Data/Processed/test_numeric')"
   ]
  },
  {
   "cell_type": "markdown",
   "id": "63a0910e-33e2-40a5-a99b-8aeb40761ee3",
   "metadata": {},
   "source": [
    "## Entraînement du modèle de Retrieval"
   ]
  },
  {
   "cell_type": "code",
   "execution_count": 5,
   "id": "63b846ce-edf2-4a9e-b1cb-a9e08be24388",
   "metadata": {},
   "outputs": [],
   "source": [
    "train_processed = Dataset(os.path.join(PROCESSED_FOLDER, \"train_processed\", \"*.parquet\"))\n",
    "test_processed = Dataset(os.path.join(PROCESSED_FOLDER, \"test_processed\", \"*.parquet\"))"
   ]
  },
  {
   "cell_type": "code",
   "execution_count": 55,
   "id": "812ac0d8-899b-4a42-b216-52838ae141ae",
   "metadata": {},
   "outputs": [],
   "source": [
    "#train_processed.schema"
   ]
  },
  {
   "cell_type": "markdown",
   "id": "67d7d1fa-ee1b-4ce2-8376-6c5e54ce7631",
   "metadata": {},
   "source": [
    "On ne sélectionne que les interactions positives car pour le two-tower model, le negative sampling se fait en batch"
   ]
  },
  {
   "cell_type": "code",
   "execution_count": 14,
   "id": "e69627ca-dbfd-430f-b33d-9ff92014bb53",
   "metadata": {},
   "outputs": [],
   "source": [
    "inputs = train_processed.schema.column_names\n",
    "outputs = inputs >> Filter(f=lambda df: df[\"Target\"] == 1)\n",
    "\n",
    "nvt_wkflow = nvt.Workflow(outputs)\n",
    "nvt_wkflow.fit(train_processed)\n",
    "\n",
    "nvt_wkflow.transform(train_processed).to_parquet(\n",
    "    output_path=os.path.join(PROCESSED_FOLDER, \"train_tt_processed\")\n",
    ")\n",
    "\n",
    "nvt_wkflow.transform(test_processed).to_parquet(\n",
    "    output_path=os.path.join(PROCESSED_FOLDER, \"test_tt_processed\")\n",
    ")"
   ]
  },
  {
   "cell_type": "code",
   "execution_count": 15,
   "id": "7b9300fe-c360-4ed4-bb4e-ad9f7210dec4",
   "metadata": {},
   "outputs": [],
   "source": [
    "train_tt = Dataset(os.path.join(PROCESSED_FOLDER, \"train_tt_processed\", \"*.parquet\"), part_size=\"500MB\")\n",
    "test_tt = Dataset(os.path.join(PROCESSED_FOLDER, \"test_tt_processed\", \"*.parquet\"), part_size=\"500MB\")"
   ]
  },
  {
   "cell_type": "code",
   "execution_count": 16,
   "id": "17768b5f-d4b0-404a-93aa-88dfaf49722c",
   "metadata": {},
   "outputs": [
    {
     "data": {
      "text/html": [
       "<div>\n",
       "<style scoped>\n",
       "    .dataframe tbody tr th:only-of-type {\n",
       "        vertical-align: middle;\n",
       "    }\n",
       "\n",
       "    .dataframe tbody tr th {\n",
       "        vertical-align: top;\n",
       "    }\n",
       "\n",
       "    .dataframe thead th {\n",
       "        text-align: right;\n",
       "    }\n",
       "</style>\n",
       "<table border=\"1\" class=\"dataframe\">\n",
       "  <thead>\n",
       "    <tr style=\"text-align: right;\">\n",
       "      <th></th>\n",
       "      <th>name</th>\n",
       "      <th>tags</th>\n",
       "      <th>dtype</th>\n",
       "      <th>is_list</th>\n",
       "      <th>is_ragged</th>\n",
       "    </tr>\n",
       "  </thead>\n",
       "  <tbody>\n",
       "    <tr>\n",
       "      <th>0</th>\n",
       "      <td>item_id</td>\n",
       "      <td>(Tags.ITEM, Tags.ID)</td>\n",
       "      <td>DType(name='int32', element_type=&lt;ElementType....</td>\n",
       "      <td>False</td>\n",
       "      <td>False</td>\n",
       "    </tr>\n",
       "  </tbody>\n",
       "</table>\n",
       "</div>"
      ],
      "text/plain": [
       "[{'name': 'item_id', 'tags': {<Tags.ITEM: 'item'>, <Tags.ID: 'id'>}, 'properties': {}, 'dtype': DType(name='int32', element_type=<ElementType.Int: 'int'>, element_size=32, element_unit=None, signed=True, shape=Shape(dims=(Dimension(min=0, max=None),))), 'is_list': False, 'is_ragged': False}]"
      ]
     },
     "execution_count": 16,
     "metadata": {},
     "output_type": "execute_result"
    }
   ],
   "source": [
    "train_tt.schema.select_by_tag(Tags.ITEM_ID)"
   ]
  },
  {
   "cell_type": "code",
   "execution_count": 17,
   "id": "93274168-dd3f-4260-b50e-26897a5b7b46",
   "metadata": {},
   "outputs": [],
   "source": [
    "#train_tt.schema.excluding_by_tag(Tags.ITEM_ID)"
   ]
  },
  {
   "cell_type": "markdown",
   "id": "0ae9df36-06ed-47a2-ab72-ec1049540c1e",
   "metadata": {},
   "source": [
    "from merlin.schema.schema import Domain, ColumnSchema, Schema\n",
    "\n",
    "# Obtenez la colonne actuelle\n",
    "current_item_id_col = train_tt.schema['item_id']\n",
    "\n",
    "# Créez un nouveau domaine\n",
    "new_domain = Domain(min=0, max=999999)  # Ajustez ces valeurs selon vos besoins\n",
    "\n",
    "# Créez une nouvelle instance de ColumnSchema avec le nouveau domaine\n",
    "new_item_id_col = ColumnSchema(\n",
    "    name=\"item_id\",\n",
    "    dtype=current_item_id_col.dtype,\n",
    "    tags=current_item_id_col.tags + [Tags.ITEM_ID],  # Assurez-vous que Tags.ITEM_ID est présent\n",
    "    properties={\n",
    "        **current_item_id_col.properties,\n",
    "        \"domain\": new_domain.__dict__,\n",
    "        \"is_categorical\": True\n",
    "    },\n",
    "    is_list=current_item_id_col.is_list,\n",
    "    is_ragged=current_item_id_col.is_ragged\n",
    ")\n"
   ]
  },
  {
   "cell_type": "code",
   "execution_count": 97,
   "id": "831b1e01-0d53-4f2e-9b86-b15ae5c52d2c",
   "metadata": {},
   "outputs": [
    {
     "data": {
      "text/plain": [
       "ColumnSchema(name='item_id', tags={<Tags.ID: 'id'>, <Tags.ITEM: 'item'>}, properties={'domain': {'min': 0, 'max': 999999, 'name': None}, 'is_categorical': True}, dtype=DType(name='int32', element_type=<ElementType.Int: 'int'>, element_size=32, element_unit=None, signed=True, shape=Shape(dims=None)), is_list=False, is_ragged=False)"
      ]
     },
     "execution_count": 97,
     "metadata": {},
     "output_type": "execute_result"
    }
   ],
   "source": [
    "new_item_id_col"
   ]
  },
  {
   "cell_type": "markdown",
   "id": "6441c917-feb0-4b82-a1d9-50f20e57f660",
   "metadata": {},
   "source": [
    "schema_without_id = train_tt.schema.excluding_by_tag(Tags.ITEM_ID)\n",
    "# Créez un nouveau schéma en supprimant l'ancienne colonne 'item_id' et en ajoutant la nouvelle\n",
    "updated_schema = (schema_without_id + Schema([new_item_id_col])  # Ajoute la nouvelle colonne 'item_id'\n",
    ")\n",
    "updated_schema"
   ]
  },
  {
   "cell_type": "code",
   "execution_count": 19,
   "id": "1225b209-6da1-45fe-be9b-620c5bc62de7",
   "metadata": {},
   "outputs": [],
   "source": [
    "#schema = train_tt.schema.select_by_tag([Tags.ITEM_ID, Tags.USER_ID, Tags.ITEM, Tags.USER])\n",
    "schema =train_tt.schema.select_by_tag([Tags.ITEM_ID, Tags.USER_ID, Tags.ITEM, Tags.USER])\n",
    "train_tt.schema = schema\n",
    "test_tt.schema = schema"
   ]
  },
  {
   "cell_type": "code",
   "execution_count": 56,
   "id": "69581577-9792-49c2-92d2-6fe291b4d3a7",
   "metadata": {},
   "outputs": [],
   "source": [
    "#schema"
   ]
  },
  {
   "cell_type": "code",
   "execution_count": 22,
   "id": "93fdf9f4-bd7c-4ea4-9ce2-92a92dcdcb1f",
   "metadata": {},
   "outputs": [],
   "source": [
    "tower_dim = 64 \n",
    "\n",
    "# create user schema using USER tag\n",
    "user_schema = schema.select_by_tag(Tags.USER)\n",
    "# create user (query) tower input block\n",
    "user_inputs = mm.InputBlockV2(user_schema)\n",
    "\n",
    "# create user (query) encoder block\n",
    "query = mm.Encoder(user_inputs, mm.MLPBlock([128, tower_dim], no_activation_last_layer=True))\n",
    "\n",
    "# create item schema using ITEM tag\n",
    "item_schema = schema.select_by_tag(Tags.ITEM)\n",
    "# create item (candidate) tower input block\n",
    "item_inputs = mm.InputBlockV2(item_schema)\n",
    "# create item (candidate) encoder block\n",
    "candidate = mm.Encoder(item_inputs, mm.MLPBlock([128, tower_dim], no_activation_last_layer=True))"
   ]
  },
  {
   "cell_type": "code",
   "execution_count": 42,
   "id": "34f1eab3-3d56-43ea-8606-41c68867948d",
   "metadata": {},
   "outputs": [],
   "source": [
    "model_tt = mm.TwoTowerModelV2(query, candidate)\n",
    "model_tt.compile(optimizer=\"adam\", run_eagerly=False, loss=\"categorical_crossentropy\", metrics=[mm.RecallAt(10), mm.NDCGAt(10)])"
   ]
  },
  {
   "cell_type": "code",
   "execution_count": 34,
   "id": "66f2a1cf-1dd4-40b6-a20b-648f4b1258fd",
   "metadata": {},
   "outputs": [
    {
     "data": {
      "text/plain": [
       "2048"
      ]
     },
     "execution_count": 34,
     "metadata": {},
     "output_type": "execute_result"
    }
   ],
   "source": [
    "4096//2"
   ]
  },
  {
   "cell_type": "code",
   "execution_count": 44,
   "id": "a2c7022f-173f-4cc2-8eb6-025df432361b",
   "metadata": {},
   "outputs": [
    {
     "name": "stdout",
     "output_type": "stream",
     "text": [
      "Epoch 1/5\n"
     ]
    },
    {
     "name": "stderr",
     "output_type": "stream",
     "text": [
      "2024-08-30 09:57:10.670560: I tensorflow/core/common_runtime/executor.cc:1209] [/device:CPU:0] (DEBUG INFO) Executor start aborting (this does not indicate an error and you can ignore this message): INVALID_ARGUMENT: You must feed a value for placeholder tensor 'Placeholder/_0' with dtype int32\n",
      "\t [[{{node Placeholder/_0}}]]\n"
     ]
    },
    {
     "name": "stdout",
     "output_type": "stream",
     "text": [
      "460/460 [==============================] - ETA: 0s - loss: 6.3370 - recall_at_10: 0.0630 - ndcg_at_10: 0.0302 - regularization_loss: 0.0000e+00 - loss_batch: 6.3348"
     ]
    },
    {
     "name": "stderr",
     "output_type": "stream",
     "text": [
      "2024-08-30 09:57:26.940416: I tensorflow/core/common_runtime/executor.cc:1209] [/device:CPU:0] (DEBUG INFO) Executor start aborting (this does not indicate an error and you can ignore this message): INVALID_ARGUMENT: You must feed a value for placeholder tensor 'Placeholder/_0' with dtype int32\n",
      "\t [[{{node Placeholder/_0}}]]\n"
     ]
    },
    {
     "name": "stdout",
     "output_type": "stream",
     "text": [
      "460/460 [==============================] - 18s 39ms/step - loss: 6.3370 - recall_at_10: 0.0630 - ndcg_at_10: 0.0302 - regularization_loss: 0.0000e+00 - loss_batch: 6.3316 - val_loss: 6.6876 - val_recall_at_10: 0.0514 - val_ndcg_at_10: 0.0242 - val_regularization_loss: 0.0000e+00 - val_loss_batch: 1.9680\n",
      "Epoch 2/5\n",
      "460/460 [==============================] - 18s 39ms/step - loss: 6.2483 - recall_at_10: 0.0748 - ndcg_at_10: 0.0362 - regularization_loss: 0.0000e+00 - loss_batch: 6.2427 - val_loss: 6.7031 - val_recall_at_10: 0.0542 - val_ndcg_at_10: 0.0261 - val_regularization_loss: 0.0000e+00 - val_loss_batch: 1.9947\n",
      "Epoch 3/5\n",
      "460/460 [==============================] - 20s 42ms/step - loss: 6.1998 - recall_at_10: 0.0813 - ndcg_at_10: 0.0393 - regularization_loss: 0.0000e+00 - loss_batch: 6.1941 - val_loss: 6.7078 - val_recall_at_10: 0.0563 - val_ndcg_at_10: 0.0272 - val_regularization_loss: 0.0000e+00 - val_loss_batch: 1.9591\n",
      "Epoch 4/5\n",
      "460/460 [==============================] - 18s 38ms/step - loss: 6.1672 - recall_at_10: 0.0853 - ndcg_at_10: 0.0414 - regularization_loss: 0.0000e+00 - loss_batch: 6.1614 - val_loss: 6.7245 - val_recall_at_10: 0.0580 - val_ndcg_at_10: 0.0279 - val_regularization_loss: 0.0000e+00 - val_loss_batch: 1.9516\n",
      "Epoch 5/5\n",
      "460/460 [==============================] - 16s 35ms/step - loss: 6.1434 - recall_at_10: 0.0885 - ndcg_at_10: 0.0432 - regularization_loss: 0.0000e+00 - loss_batch: 6.1376 - val_loss: 6.7408 - val_recall_at_10: 0.0592 - val_ndcg_at_10: 0.0283 - val_regularization_loss: 0.0000e+00 - val_loss_batch: 1.8878\n",
      "CPU times: user 3min 22s, sys: 27.4 s, total: 3min 49s\n",
      "Wall time: 1min 32s\n"
     ]
    },
    {
     "data": {
      "text/plain": [
       "<keras.callbacks.History at 0x7f6eb8296b60>"
      ]
     },
     "execution_count": 44,
     "metadata": {},
     "output_type": "execute_result"
    }
   ],
   "source": [
    "%%time\n",
    "\n",
    "model_tt.fit(train_tt, validation_data=test_tt, batch_size=4096//4, epochs=5)"
   ]
  },
  {
   "cell_type": "code",
   "execution_count": 27,
   "id": "43789cdd-4c0b-4412-b765-d37d54e1eacc",
   "metadata": {},
   "outputs": [],
   "source": [
    "import shutil\n",
    "shutil.rmtree('/root/Data/Processed/test_tt_processed')\n",
    "shutil.rmtree('/root/Data/Processed/train_tt_processed')"
   ]
  },
  {
   "cell_type": "markdown",
   "id": "56ddfc88-f325-4af4-aaed-bc918fae2f9d",
   "metadata": {},
   "source": [
    "Sauvegarde du modèle de retrieval"
   ]
  },
  {
   "cell_type": "code",
   "execution_count": 45,
   "id": "f9d18cb5-c510-471f-ba68-7ab04e4524d4",
   "metadata": {},
   "outputs": [],
   "source": [
    "query_tower = model_tt.query_encoder\n",
    "query_tower.save(os.path.join(MODELS_FOLDER, \"query_tower\"))"
   ]
  },
  {
   "cell_type": "markdown",
   "id": "3fe3eff4-de7c-4ee7-845b-3adb7124fbdf",
   "metadata": {},
   "source": [
    "### Sauvegarde des embeddings produits"
   ]
  },
  {
   "cell_type": "code",
   "execution_count": 57,
   "id": "4aeeea86-4af9-43df-bb13-8898e77fb1f1",
   "metadata": {},
   "outputs": [],
   "source": [
    "item_features = Dataset(os.path.join(feature_repo_path, \"data/item_features.parquet\"))"
   ]
  },
  {
   "cell_type": "code",
   "execution_count": 58,
   "id": "d9021807-b1fc-4b10-958e-25440fac0d96",
   "metadata": {},
   "outputs": [
    {
     "data": {
      "text/html": [
       "<div>\n",
       "<style scoped>\n",
       "    .dataframe tbody tr th:only-of-type {\n",
       "        vertical-align: middle;\n",
       "    }\n",
       "\n",
       "    .dataframe tbody tr th {\n",
       "        vertical-align: top;\n",
       "    }\n",
       "\n",
       "    .dataframe thead th {\n",
       "        text-align: right;\n",
       "    }\n",
       "</style>\n",
       "<table border=\"1\" class=\"dataframe\">\n",
       "  <thead>\n",
       "    <tr style=\"text-align: right;\">\n",
       "      <th></th>\n",
       "      <th>name</th>\n",
       "      <th>tags</th>\n",
       "      <th>dtype</th>\n",
       "      <th>is_list</th>\n",
       "      <th>is_ragged</th>\n",
       "    </tr>\n",
       "  </thead>\n",
       "  <tbody>\n",
       "    <tr>\n",
       "      <th>0</th>\n",
       "      <td>item_id</td>\n",
       "      <td>()</td>\n",
       "      <td>DType(name='int32', element_type=&lt;ElementType....</td>\n",
       "      <td>False</td>\n",
       "      <td>False</td>\n",
       "    </tr>\n",
       "    <tr>\n",
       "      <th>1</th>\n",
       "      <td>product_code</td>\n",
       "      <td>()</td>\n",
       "      <td>DType(name='int32', element_type=&lt;ElementType....</td>\n",
       "      <td>False</td>\n",
       "      <td>False</td>\n",
       "    </tr>\n",
       "    <tr>\n",
       "      <th>2</th>\n",
       "      <td>prod_name</td>\n",
       "      <td>()</td>\n",
       "      <td>DType(name='int32', element_type=&lt;ElementType....</td>\n",
       "      <td>False</td>\n",
       "      <td>False</td>\n",
       "    </tr>\n",
       "    <tr>\n",
       "      <th>3</th>\n",
       "      <td>product_type_no</td>\n",
       "      <td>()</td>\n",
       "      <td>DType(name='int32', element_type=&lt;ElementType....</td>\n",
       "      <td>False</td>\n",
       "      <td>False</td>\n",
       "    </tr>\n",
       "    <tr>\n",
       "      <th>4</th>\n",
       "      <td>product_group_name</td>\n",
       "      <td>()</td>\n",
       "      <td>DType(name='int32', element_type=&lt;ElementType....</td>\n",
       "      <td>False</td>\n",
       "      <td>False</td>\n",
       "    </tr>\n",
       "    <tr>\n",
       "      <th>5</th>\n",
       "      <td>graphical_appearance_no</td>\n",
       "      <td>()</td>\n",
       "      <td>DType(name='int32', element_type=&lt;ElementType....</td>\n",
       "      <td>False</td>\n",
       "      <td>False</td>\n",
       "    </tr>\n",
       "    <tr>\n",
       "      <th>6</th>\n",
       "      <td>colour_group_code</td>\n",
       "      <td>()</td>\n",
       "      <td>DType(name='int32', element_type=&lt;ElementType....</td>\n",
       "      <td>False</td>\n",
       "      <td>False</td>\n",
       "    </tr>\n",
       "    <tr>\n",
       "      <th>7</th>\n",
       "      <td>perceived_colour_value_id</td>\n",
       "      <td>()</td>\n",
       "      <td>DType(name='int32', element_type=&lt;ElementType....</td>\n",
       "      <td>False</td>\n",
       "      <td>False</td>\n",
       "    </tr>\n",
       "    <tr>\n",
       "      <th>8</th>\n",
       "      <td>perceived_colour_master_id</td>\n",
       "      <td>()</td>\n",
       "      <td>DType(name='int32', element_type=&lt;ElementType....</td>\n",
       "      <td>False</td>\n",
       "      <td>False</td>\n",
       "    </tr>\n",
       "    <tr>\n",
       "      <th>9</th>\n",
       "      <td>department_no</td>\n",
       "      <td>()</td>\n",
       "      <td>DType(name='int32', element_type=&lt;ElementType....</td>\n",
       "      <td>False</td>\n",
       "      <td>False</td>\n",
       "    </tr>\n",
       "    <tr>\n",
       "      <th>10</th>\n",
       "      <td>index_code</td>\n",
       "      <td>()</td>\n",
       "      <td>DType(name='int32', element_type=&lt;ElementType....</td>\n",
       "      <td>False</td>\n",
       "      <td>False</td>\n",
       "    </tr>\n",
       "    <tr>\n",
       "      <th>11</th>\n",
       "      <td>index_group_no</td>\n",
       "      <td>()</td>\n",
       "      <td>DType(name='int32', element_type=&lt;ElementType....</td>\n",
       "      <td>False</td>\n",
       "      <td>False</td>\n",
       "    </tr>\n",
       "    <tr>\n",
       "      <th>12</th>\n",
       "      <td>section_no</td>\n",
       "      <td>()</td>\n",
       "      <td>DType(name='int32', element_type=&lt;ElementType....</td>\n",
       "      <td>False</td>\n",
       "      <td>False</td>\n",
       "    </tr>\n",
       "    <tr>\n",
       "      <th>13</th>\n",
       "      <td>garment_group_no</td>\n",
       "      <td>()</td>\n",
       "      <td>DType(name='int32', element_type=&lt;ElementType....</td>\n",
       "      <td>False</td>\n",
       "      <td>False</td>\n",
       "    </tr>\n",
       "    <tr>\n",
       "      <th>14</th>\n",
       "      <td>detail_desc</td>\n",
       "      <td>()</td>\n",
       "      <td>DType(name='int32', element_type=&lt;ElementType....</td>\n",
       "      <td>False</td>\n",
       "      <td>False</td>\n",
       "    </tr>\n",
       "    <tr>\n",
       "      <th>15</th>\n",
       "      <td>count_30d_purchased</td>\n",
       "      <td>()</td>\n",
       "      <td>DType(name='int32', element_type=&lt;ElementType....</td>\n",
       "      <td>False</td>\n",
       "      <td>False</td>\n",
       "    </tr>\n",
       "    <tr>\n",
       "      <th>16</th>\n",
       "      <td>count_7d_purchased</td>\n",
       "      <td>()</td>\n",
       "      <td>DType(name='int32', element_type=&lt;ElementType....</td>\n",
       "      <td>False</td>\n",
       "      <td>False</td>\n",
       "    </tr>\n",
       "    <tr>\n",
       "      <th>17</th>\n",
       "      <td>Time_Weighted_Purchased</td>\n",
       "      <td>()</td>\n",
       "      <td>DType(name='float32', element_type=&lt;ElementTyp...</td>\n",
       "      <td>False</td>\n",
       "      <td>False</td>\n",
       "    </tr>\n",
       "    <tr>\n",
       "      <th>18</th>\n",
       "      <td>datetime</td>\n",
       "      <td>()</td>\n",
       "      <td>DType(name='datetime64[ns]', element_type=&lt;Ele...</td>\n",
       "      <td>False</td>\n",
       "      <td>False</td>\n",
       "    </tr>\n",
       "    <tr>\n",
       "      <th>19</th>\n",
       "      <td>created</td>\n",
       "      <td>()</td>\n",
       "      <td>DType(name='datetime64[ns]', element_type=&lt;Ele...</td>\n",
       "      <td>False</td>\n",
       "      <td>False</td>\n",
       "    </tr>\n",
       "  </tbody>\n",
       "</table>\n",
       "</div>"
      ],
      "text/plain": [
       "[{'name': 'item_id', 'tags': set(), 'properties': {}, 'dtype': DType(name='int32', element_type=<ElementType.Int: 'int'>, element_size=32, element_unit=None, signed=True, shape=Shape(dims=(Dimension(min=0, max=None),))), 'is_list': False, 'is_ragged': False}, {'name': 'product_code', 'tags': set(), 'properties': {}, 'dtype': DType(name='int32', element_type=<ElementType.Int: 'int'>, element_size=32, element_unit=None, signed=True, shape=Shape(dims=(Dimension(min=0, max=None),))), 'is_list': False, 'is_ragged': False}, {'name': 'prod_name', 'tags': set(), 'properties': {}, 'dtype': DType(name='int32', element_type=<ElementType.Int: 'int'>, element_size=32, element_unit=None, signed=True, shape=Shape(dims=(Dimension(min=0, max=None),))), 'is_list': False, 'is_ragged': False}, {'name': 'product_type_no', 'tags': set(), 'properties': {}, 'dtype': DType(name='int32', element_type=<ElementType.Int: 'int'>, element_size=32, element_unit=None, signed=True, shape=Shape(dims=(Dimension(min=0, max=None),))), 'is_list': False, 'is_ragged': False}, {'name': 'product_group_name', 'tags': set(), 'properties': {}, 'dtype': DType(name='int32', element_type=<ElementType.Int: 'int'>, element_size=32, element_unit=None, signed=True, shape=Shape(dims=(Dimension(min=0, max=None),))), 'is_list': False, 'is_ragged': False}, {'name': 'graphical_appearance_no', 'tags': set(), 'properties': {}, 'dtype': DType(name='int32', element_type=<ElementType.Int: 'int'>, element_size=32, element_unit=None, signed=True, shape=Shape(dims=(Dimension(min=0, max=None),))), 'is_list': False, 'is_ragged': False}, {'name': 'colour_group_code', 'tags': set(), 'properties': {}, 'dtype': DType(name='int32', element_type=<ElementType.Int: 'int'>, element_size=32, element_unit=None, signed=True, shape=Shape(dims=(Dimension(min=0, max=None),))), 'is_list': False, 'is_ragged': False}, {'name': 'perceived_colour_value_id', 'tags': set(), 'properties': {}, 'dtype': DType(name='int32', element_type=<ElementType.Int: 'int'>, element_size=32, element_unit=None, signed=True, shape=Shape(dims=(Dimension(min=0, max=None),))), 'is_list': False, 'is_ragged': False}, {'name': 'perceived_colour_master_id', 'tags': set(), 'properties': {}, 'dtype': DType(name='int32', element_type=<ElementType.Int: 'int'>, element_size=32, element_unit=None, signed=True, shape=Shape(dims=(Dimension(min=0, max=None),))), 'is_list': False, 'is_ragged': False}, {'name': 'department_no', 'tags': set(), 'properties': {}, 'dtype': DType(name='int32', element_type=<ElementType.Int: 'int'>, element_size=32, element_unit=None, signed=True, shape=Shape(dims=(Dimension(min=0, max=None),))), 'is_list': False, 'is_ragged': False}, {'name': 'index_code', 'tags': set(), 'properties': {}, 'dtype': DType(name='int32', element_type=<ElementType.Int: 'int'>, element_size=32, element_unit=None, signed=True, shape=Shape(dims=(Dimension(min=0, max=None),))), 'is_list': False, 'is_ragged': False}, {'name': 'index_group_no', 'tags': set(), 'properties': {}, 'dtype': DType(name='int32', element_type=<ElementType.Int: 'int'>, element_size=32, element_unit=None, signed=True, shape=Shape(dims=(Dimension(min=0, max=None),))), 'is_list': False, 'is_ragged': False}, {'name': 'section_no', 'tags': set(), 'properties': {}, 'dtype': DType(name='int32', element_type=<ElementType.Int: 'int'>, element_size=32, element_unit=None, signed=True, shape=Shape(dims=(Dimension(min=0, max=None),))), 'is_list': False, 'is_ragged': False}, {'name': 'garment_group_no', 'tags': set(), 'properties': {}, 'dtype': DType(name='int32', element_type=<ElementType.Int: 'int'>, element_size=32, element_unit=None, signed=True, shape=Shape(dims=(Dimension(min=0, max=None),))), 'is_list': False, 'is_ragged': False}, {'name': 'detail_desc', 'tags': set(), 'properties': {}, 'dtype': DType(name='int32', element_type=<ElementType.Int: 'int'>, element_size=32, element_unit=None, signed=True, shape=Shape(dims=(Dimension(min=0, max=None),))), 'is_list': False, 'is_ragged': False}, {'name': 'count_30d_purchased', 'tags': set(), 'properties': {}, 'dtype': DType(name='int32', element_type=<ElementType.Int: 'int'>, element_size=32, element_unit=None, signed=True, shape=Shape(dims=(Dimension(min=0, max=None),))), 'is_list': False, 'is_ragged': False}, {'name': 'count_7d_purchased', 'tags': set(), 'properties': {}, 'dtype': DType(name='int32', element_type=<ElementType.Int: 'int'>, element_size=32, element_unit=None, signed=True, shape=Shape(dims=(Dimension(min=0, max=None),))), 'is_list': False, 'is_ragged': False}, {'name': 'Time_Weighted_Purchased', 'tags': set(), 'properties': {}, 'dtype': DType(name='float32', element_type=<ElementType.Float: 'float'>, element_size=32, element_unit=None, signed=True, shape=Shape(dims=(Dimension(min=0, max=None),))), 'is_list': False, 'is_ragged': False}, {'name': 'datetime', 'tags': set(), 'properties': {}, 'dtype': DType(name='datetime64[ns]', element_type=<ElementType.DateTime: 'datetime'>, element_size=64, element_unit=<ElementUnit.Nanosecond: 'nanosecond'>, signed=None, shape=Shape(dims=(Dimension(min=0, max=None),))), 'is_list': False, 'is_ragged': False}, {'name': 'created', 'tags': set(), 'properties': {}, 'dtype': DType(name='datetime64[ns]', element_type=<ElementType.DateTime: 'datetime'>, element_size=64, element_unit=<ElementUnit.Nanosecond: 'nanosecond'>, signed=None, shape=Shape(dims=(Dimension(min=0, max=None),))), 'is_list': False, 'is_ragged': False}]"
      ]
     },
     "execution_count": 58,
     "metadata": {},
     "output_type": "execute_result"
    }
   ],
   "source": [
    "item_features.schema"
   ]
  },
  {
   "cell_type": "code",
   "execution_count": 59,
   "id": "b28ff098-62f3-43b5-94ce-b0d22418ae02",
   "metadata": {},
   "outputs": [
    {
     "name": "stdout",
     "output_type": "stream",
     "text": [
      "18\n"
     ]
    }
   ],
   "source": [
    "List_item_features = ['item_id', 'product_code', 'prod_name', 'product_type_no',\n",
    "       'product_group_name', 'graphical_appearance_no', 'colour_group_code',\n",
    "       'perceived_colour_value_id', 'perceived_colour_master_id',\n",
    "       'department_no', 'index_code', 'index_group_no', 'section_no',\n",
    "       'garment_group_no', 'detail_desc', 'count_30d_purchased',\n",
    "       'count_7d_purchased', 'Time_Weighted_Purchased']\n",
    "print(len(List_item_features))"
   ]
  },
  {
   "cell_type": "markdown",
   "id": "8a4fea89-a258-4cc6-adb1-1a058fd4006a",
   "metadata": {},
   "source": [
    "On fait passer tous les items dans la branche item du two-tower model pour pré-calculer les embeddings"
   ]
  },
  {
   "cell_type": "code",
   "execution_count": 60,
   "id": "60a25d2c-1ce1-45e1-81df-b765840e7578",
   "metadata": {},
   "outputs": [],
   "source": [
    "from nvtabular import Workflow\n",
    "\n",
    "#nvt_workflow = Workflow.load(os.path.join(MODELS_FOLDER, 'general_workflow'))\n",
    "item_subgraph = workflow.get_subworkflow(\"item\")\n",
    "#user_features = user_attributes >> TransformWorkflow(user_subgraph)"
   ]
  },
  {
   "cell_type": "code",
   "execution_count": 61,
   "id": "727a4fa9-6fcf-4db6-9ff1-74f77e3f0b1b",
   "metadata": {},
   "outputs": [
    {
     "data": {
      "text/html": [
       "<div>\n",
       "<style scoped>\n",
       "    .dataframe tbody tr th:only-of-type {\n",
       "        vertical-align: middle;\n",
       "    }\n",
       "\n",
       "    .dataframe tbody tr th {\n",
       "        vertical-align: top;\n",
       "    }\n",
       "\n",
       "    .dataframe thead th {\n",
       "        text-align: right;\n",
       "    }\n",
       "</style>\n",
       "<table border=\"1\" class=\"dataframe\">\n",
       "  <thead>\n",
       "    <tr style=\"text-align: right;\">\n",
       "      <th></th>\n",
       "      <th>item_id</th>\n",
       "      <th>output_1</th>\n",
       "    </tr>\n",
       "  </thead>\n",
       "  <tbody>\n",
       "    <tr>\n",
       "      <th>23412</th>\n",
       "      <td>952267001</td>\n",
       "      <td>[2.6257996559143066, 1.4570021629333496, 0.575...</td>\n",
       "    </tr>\n",
       "    <tr>\n",
       "      <th>23413</th>\n",
       "      <td>952938001</td>\n",
       "      <td>[0.9029256105422974, 0.8305089473724365, 0.147...</td>\n",
       "    </tr>\n",
       "    <tr>\n",
       "      <th>23414</th>\n",
       "      <td>953450001</td>\n",
       "      <td>[2.418158769607544, 0.5666717290878296, 0.2449...</td>\n",
       "    </tr>\n",
       "    <tr>\n",
       "      <th>23415</th>\n",
       "      <td>953763001</td>\n",
       "      <td>[0.5645731091499329, 0.3132047653198242, 0.367...</td>\n",
       "    </tr>\n",
       "    <tr>\n",
       "      <th>23416</th>\n",
       "      <td>956217002</td>\n",
       "      <td>[1.4344825744628906, 0.17341676354408264, -0.0...</td>\n",
       "    </tr>\n",
       "  </tbody>\n",
       "</table>\n",
       "</div>"
      ],
      "text/plain": [
       "         item_id                                           output_1\n",
       "23412  952267001  [2.6257996559143066, 1.4570021629333496, 0.575...\n",
       "23413  952938001  [0.9029256105422974, 0.8305089473724365, 0.147...\n",
       "23414  953450001  [2.418158769607544, 0.5666717290878296, 0.2449...\n",
       "23415  953763001  [0.5645731091499329, 0.3132047653198242, 0.367...\n",
       "23416  956217002  [1.4344825744628906, 0.17341676354408264, -0.0..."
      ]
     },
     "execution_count": 61,
     "metadata": {},
     "output_type": "execute_result"
    }
   ],
   "source": [
    "from merlin.systems.dag.ops.tensorflow import PredictTensorflow\n",
    "from merlin.systems.dag.ops.workflow import TransformWorkflow\n",
    "\n",
    "workflow_item_embedding =  nvt.Workflow([\"item_id\"] + (List_item_features >> TransformWorkflow(item_subgraph) >> PredictTensorflow(model_tt.candidate_encoder)))\n",
    "item_embeddings = workflow_item_embedding.fit_transform(item_features).to_ddf().compute()\n",
    "item_embeddings.tail()"
   ]
  },
  {
   "cell_type": "markdown",
   "id": "cea97ca8-2ed0-4c13-8538-5eb19778ff1e",
   "metadata": {},
   "source": [
    "Sauvegarde des embeddings"
   ]
  },
  {
   "cell_type": "code",
   "execution_count": 62,
   "id": "5a655b4a-21da-4295-a101-b286dbf63ba7",
   "metadata": {},
   "outputs": [],
   "source": [
    "# save to disk\n",
    "item_embeddings.to_parquet(os.path.join(PROCESSED_FOLDER, \"item_embeddings.parquet\"))"
   ]
  },
  {
   "cell_type": "markdown",
   "id": "86c101c5-d9da-4fbf-b07b-717d64782f8f",
   "metadata": {},
   "source": [
    "## Entraînement du modèle de scoring"
   ]
  },
  {
   "cell_type": "code",
   "execution_count": 6,
   "id": "9caa9f71-5d83-48e0-be3f-70de11fba924",
   "metadata": {},
   "outputs": [],
   "source": [
    "# define schema object\n",
    "schema_dlrm = train_processed.schema"
   ]
  },
  {
   "cell_type": "code",
   "execution_count": 7,
   "id": "b10dc304-3ec3-48f6-832f-455093979b6e",
   "metadata": {},
   "outputs": [
    {
     "data": {
      "text/plain": [
       "'Target'"
      ]
     },
     "execution_count": 7,
     "metadata": {},
     "output_type": "execute_result"
    }
   ],
   "source": [
    "target_column = schema_dlrm.select_by_tag(Tags.TARGET).column_names[0]\n",
    "target_column"
   ]
  },
  {
   "cell_type": "code",
   "execution_count": 8,
   "id": "1801d78f-0a07-4e8d-8399-739f285ae4f6",
   "metadata": {},
   "outputs": [],
   "source": [
    "batch_size = 16 * 1024\n",
    "LR = 0.03\n",
    "metrics = [tf.keras.metrics.AUC(name=\"auc\"),tf.keras.metrics.Precision(name='precision'), tf.keras.metrics.Recall(name='recall')] #mm.RecallAt(10), mm.NDCGAt(10), mm.PrecisionAt(10)]"
   ]
  },
  {
   "cell_type": "code",
   "execution_count": 71,
   "id": "accb6409-0d45-4abd-8523-82ae3c8ae2c8",
   "metadata": {},
   "outputs": [],
   "source": [
    "model = mm.DLRMModel(\n",
    "    schema_dlrm,\n",
    "    embedding_dim=64,\n",
    "    bottom_block=mm.MLPBlock([128, 64]),\n",
    "    top_block=mm.MLPBlock([128, 64, 32]),\n",
    "    prediction_tasks=mm.BinaryOutput('Target'),\n",
    ")\n"
   ]
  },
  {
   "cell_type": "code",
   "execution_count": 77,
   "id": "ab8a8b62-424a-4d20-96fe-04720b0287ea",
   "metadata": {},
   "outputs": [
    {
     "name": "stdout",
     "output_type": "stream",
     "text": [
      "Epoch 1/8\n"
     ]
    },
    {
     "name": "stderr",
     "output_type": "stream",
     "text": [
      "2024-08-30 10:19:59.852223: I tensorflow/core/common_runtime/executor.cc:1209] [/device:CPU:0] (DEBUG INFO) Executor start aborting (this does not indicate an error and you can ignore this message): INVALID_ARGUMENT: You must feed a value for placeholder tensor 'Placeholder/_0' with dtype int32\n",
      "\t [[{{node Placeholder/_0}}]]\n"
     ]
    },
    {
     "name": "stdout",
     "output_type": "stream",
     "text": [
      "60/60 [==============================] - ETA: 0s - loss: 0.4393 - auc: 0.8757 - precision: 0.7796 - recall: 0.7857 - regularization_loss: 0.0000e+00 - loss_batch: 0.4393"
     ]
    },
    {
     "name": "stderr",
     "output_type": "stream",
     "text": [
      "2024-08-30 10:20:07.488766: I tensorflow/core/common_runtime/executor.cc:1209] [/device:CPU:0] (DEBUG INFO) Executor start aborting (this does not indicate an error and you can ignore this message): INVALID_ARGUMENT: You must feed a value for placeholder tensor 'Placeholder/_0' with dtype int32\n",
      "\t [[{{node Placeholder/_0}}]]\n"
     ]
    },
    {
     "name": "stdout",
     "output_type": "stream",
     "text": [
      "60/60 [==============================] - 10s 85ms/step - loss: 0.4393 - auc: 0.8757 - precision: 0.7796 - recall: 0.7857 - regularization_loss: 0.0000e+00 - loss_batch: 0.4387 - val_loss: 0.4775 - val_auc: 0.8706 - val_precision: 0.8451 - val_recall: 0.6387 - val_regularization_loss: 0.0000e+00 - val_loss_batch: 0.4769\n",
      "Epoch 2/8\n",
      "60/60 [==============================] - 3s 46ms/step - loss: 0.3813 - auc: 0.9068 - precision: 0.8171 - recall: 0.8067 - regularization_loss: 0.0000e+00 - loss_batch: 0.3809 - val_loss: 0.4461 - val_auc: 0.8770 - val_precision: 0.8158 - val_recall: 0.7160 - val_regularization_loss: 0.0000e+00 - val_loss_batch: 0.4488\n",
      "Epoch 3/8\n",
      "60/60 [==============================] - 3s 50ms/step - loss: 0.3718 - auc: 0.9117 - precision: 0.8224 - recall: 0.8134 - regularization_loss: 0.0000e+00 - loss_batch: 0.3714 - val_loss: 0.4412 - val_auc: 0.8780 - val_precision: 0.8076 - val_recall: 0.7341 - val_regularization_loss: 0.0000e+00 - val_loss_batch: 0.4442\n",
      "Epoch 4/8\n",
      "60/60 [==============================] - 3s 46ms/step - loss: 0.3641 - auc: 0.9157 - precision: 0.8267 - recall: 0.8188 - regularization_loss: 0.0000e+00 - loss_batch: 0.3637 - val_loss: 0.4436 - val_auc: 0.8781 - val_precision: 0.8071 - val_recall: 0.7349 - val_regularization_loss: 0.0000e+00 - val_loss_batch: 0.4471\n",
      "Epoch 5/8\n",
      "60/60 [==============================] - 3s 44ms/step - loss: 0.3598 - auc: 0.9178 - precision: 0.8295 - recall: 0.8227 - regularization_loss: 0.0000e+00 - loss_batch: 0.3595 - val_loss: 0.4453 - val_auc: 0.8786 - val_precision: 0.8120 - val_recall: 0.7290 - val_regularization_loss: 0.0000e+00 - val_loss_batch: 0.4491\n",
      "Epoch 6/8\n",
      "60/60 [==============================] - 4s 59ms/step - loss: 0.3531 - auc: 0.9211 - precision: 0.8332 - recall: 0.8273 - regularization_loss: 0.0000e+00 - loss_batch: 0.3529 - val_loss: 0.4525 - val_auc: 0.8794 - val_precision: 0.8236 - val_recall: 0.7100 - val_regularization_loss: 0.0000e+00 - val_loss_batch: 0.4564\n",
      "Epoch 7/8\n",
      "60/60 [==============================] - 3s 47ms/step - loss: 0.3469 - auc: 0.9241 - precision: 0.8370 - recall: 0.8323 - regularization_loss: 0.0000e+00 - loss_batch: 0.3466 - val_loss: 0.4474 - val_auc: 0.8798 - val_precision: 0.8104 - val_recall: 0.7359 - val_regularization_loss: 0.0000e+00 - val_loss_batch: 0.4519\n",
      "Epoch 8/8\n",
      "60/60 [==============================] - 3s 44ms/step - loss: 0.3428 - auc: 0.9260 - precision: 0.8394 - recall: 0.8356 - regularization_loss: 0.0000e+00 - loss_batch: 0.3425 - val_loss: 0.4478 - val_auc: 0.8807 - val_precision: 0.8104 - val_recall: 0.7390 - val_regularization_loss: 0.0000e+00 - val_loss_batch: 0.4527\n",
      "CPU times: user 48.4 s, sys: 7.96 s, total: 56.3 s\n",
      "Wall time: 32.4 s\n"
     ]
    },
    {
     "data": {
      "text/plain": [
       "<keras.callbacks.History at 0x7f6e6a6937f0>"
      ]
     },
     "execution_count": 77,
     "metadata": {},
     "output_type": "execute_result"
    }
   ],
   "source": [
    "%%time\n",
    "opt = tf.keras.optimizers.legacy.Adagrad(learning_rate=LR*4)\n",
    "model.compile(optimizer=opt, run_eagerly=False, metrics=metrics)\n",
    "model.fit(train_processed, validation_data=test_processed, batch_size=batch_size, epochs=8)"
   ]
  },
  {
   "cell_type": "code",
   "execution_count": 31,
   "id": "3cf76770-53af-4bb6-ad38-4bf9e5302863",
   "metadata": {},
   "outputs": [],
   "source": [
    "from merlin.models.utils.example_utils import workflow_fit_transform, save_results\n",
    "\n",
    "results_path = os.path.join( \"results_models/results.txt\")\n",
    "if os.path.isfile(results_path):\n",
    "    os.remove(results_path)\n",
    "\n",
    "def save_results_custom(model_name, model, out_path):\n",
    "    \"\"\"a funct to save validation accuracy results in a text file\"\"\"\n",
    "    with open(out_path, \"a\") as f:\n",
    "        f.write(model_name)\n",
    "        f.write(\"\\n\")\n",
    "        for key, value in model.history.history.items():\n",
    "            if \"val_auc\" in key:\n",
    "                f.write(\"%s:%s\\n\" % (key, value[0]))\n",
    "            if \"val_loss\" in key:\n",
    "                f.write(\"%s:%s\\n\" % (key, value[0]))\n",
    "            if \"val_precision\" in key:\n",
    "                f.write(\"%s:%s\\n\" % (key, value[0]))\n",
    "            if \"val_recall\" in key:\n",
    "                f.write(\"%s:%s\\n\" % (key, value[0]))\n"
   ]
  },
  {
   "cell_type": "code",
   "execution_count": 151,
   "id": "13860a74-a3a1-4c5f-8c64-4bfc22be7ba9",
   "metadata": {},
   "outputs": [],
   "source": [
    "save_results_custom(\"DLRM\", model, results_path)"
   ]
  },
  {
   "cell_type": "markdown",
   "id": "73217bcd-7078-45f4-add7-bed14c3ff27b",
   "metadata": {},
   "source": [
    "Enregistrement du modèle"
   ]
  },
  {
   "cell_type": "code",
   "execution_count": 78,
   "id": "c1a26371-d93e-41f8-97b2-007f7b3dcf60",
   "metadata": {},
   "outputs": [],
   "source": [
    "model.save(os.path.join(MODELS_FOLDER, \"dlrm\"))"
   ]
  },
  {
   "cell_type": "markdown",
   "id": "fa06d530-63c6-4219-bebd-93d3b9083005",
   "metadata": {},
   "source": [
    "## Test NCF"
   ]
  },
  {
   "cell_type": "code",
   "execution_count": 11,
   "id": "3b7aa38e-4c15-4633-b7ba-a83f82df719d",
   "metadata": {},
   "outputs": [],
   "source": [
    "schema = schema_dlrm"
   ]
  },
  {
   "cell_type": "markdown",
   "id": "ed537f03-a086-4a7e-a4a7-56c5e0fad79a",
   "metadata": {},
   "source": [
    "Test Wide & Deep"
   ]
  },
  {
   "cell_type": "code",
   "execution_count": 80,
   "id": "5e987b8a-91e9-4f67-8f27-e2d144a8ecab",
   "metadata": {},
   "outputs": [],
   "source": [
    "cat_schema = schema.select_by_tag(Tags.CATEGORICAL)\n",
    "\n",
    "one_hot_encoding = mm.CategoryEncoding(cat_schema, sparse=True, output_mode=\"one_hot\") # One-hot encoding\n",
    "\n",
    "features_crossing = mm.HashedCrossAll(\n",
    "        cat_schema,\n",
    "        num_bins=100, # The crossed features will be hashed to this number of bins\n",
    "        max_level=2,\n",
    "        output_mode=\"one_hot\",\n",
    "        sparse=True,\n",
    "        ignore_combinations=[[\"item_id\", \"item_category\"], \n",
    "                             [\"item_id\", \"item_brand\"]]\n",
    "    )\n",
    "\n",
    "wide_preprocessing_blocks = mm.ParallelBlock([\n",
    "                                              one_hot_encoding, \n",
    "                                              features_crossing\n",
    "                                             ],\n",
    "                                             aggregation=\"concat\")\n",
    "\n",
    "deep_part = mm.MLPBlock([128, 64, 32])\n",
    "\n",
    "model = mm.WideAndDeepModel(\n",
    "        schema,\n",
    "        wide_schema=cat_schema,\n",
    "        deep_schema=schema,\n",
    "        wide_preprocess=wide_preprocessing_blocks,\n",
    "        deep_block=deep_part,\n",
    "        prediction_tasks=mm.BinaryOutput(target_column),\n",
    "    )"
   ]
  },
  {
   "cell_type": "code",
   "execution_count": 82,
   "id": "e601b994-5831-4413-940d-20d4f9060f8a",
   "metadata": {},
   "outputs": [
    {
     "name": "stdout",
     "output_type": "stream",
     "text": [
      "Epoch 1/8\n"
     ]
    },
    {
     "name": "stderr",
     "output_type": "stream",
     "text": [
      "2024-08-30 10:29:30.567060: I tensorflow/core/common_runtime/executor.cc:1209] [/device:CPU:0] (DEBUG INFO) Executor start aborting (this does not indicate an error and you can ignore this message): INVALID_ARGUMENT: You must feed a value for placeholder tensor 'Placeholder/_0' with dtype int32\n",
      "\t [[{{node Placeholder/_0}}]]\n"
     ]
    },
    {
     "name": "stdout",
     "output_type": "stream",
     "text": [
      "120/120 [==============================] - ETA: 0s - loss: 0.5038 - auc: 0.8286 - precision: 0.7465 - recall: 0.7096 - regularization_loss: 0.0000e+00 - loss_batch: 0.5037"
     ]
    },
    {
     "name": "stderr",
     "output_type": "stream",
     "text": [
      "2024-08-30 10:31:23.123396: I tensorflow/core/common_runtime/executor.cc:1209] [/device:CPU:0] (DEBUG INFO) Executor start aborting (this does not indicate an error and you can ignore this message): INVALID_ARGUMENT: You must feed a value for placeholder tensor 'Placeholder/_0' with dtype int32\n",
      "\t [[{{node Placeholder/_0}}]]\n"
     ]
    },
    {
     "name": "stdout",
     "output_type": "stream",
     "text": [
      "120/120 [==============================] - 167s 795ms/step - loss: 0.5038 - auc: 0.8286 - precision: 0.7465 - recall: 0.7096 - regularization_loss: 0.0000e+00 - loss_batch: 0.5036 - val_loss: 0.4998 - val_auc: 0.8411 - val_precision: 0.7016 - val_recall: 0.8161 - val_regularization_loss: 0.0000e+00 - val_loss_batch: 0.4901\n",
      "Epoch 2/8\n",
      "120/120 [==============================] - 59s 490ms/step - loss: 0.4884 - auc: 0.8395 - precision: 0.7562 - recall: 0.7184 - regularization_loss: 0.0000e+00 - loss_batch: 0.4884 - val_loss: 0.5048 - val_auc: 0.8438 - val_precision: 0.6884 - val_recall: 0.8416 - val_regularization_loss: 0.0000e+00 - val_loss_batch: 0.4951\n",
      "Epoch 3/8\n",
      "120/120 [==============================] - 57s 473ms/step - loss: 0.4800 - auc: 0.8453 - precision: 0.7615 - recall: 0.7239 - regularization_loss: 0.0000e+00 - loss_batch: 0.4799 - val_loss: 0.4848 - val_auc: 0.8485 - val_precision: 0.8104 - val_recall: 0.6416 - val_regularization_loss: 0.0000e+00 - val_loss_batch: 0.4797\n",
      "Epoch 4/8\n",
      "120/120 [==============================] - 56s 458ms/step - loss: 0.4732 - auc: 0.8499 - precision: 0.7672 - recall: 0.7265 - regularization_loss: 0.0000e+00 - loss_batch: 0.4730 - val_loss: 0.4710 - val_auc: 0.8510 - val_precision: 0.7604 - val_recall: 0.7413 - val_regularization_loss: 0.0000e+00 - val_loss_batch: 0.4641\n",
      "Epoch 5/8\n",
      "120/120 [==============================] - 59s 491ms/step - loss: 0.4706 - auc: 0.8514 - precision: 0.7687 - recall: 0.7283 - regularization_loss: 0.0000e+00 - loss_batch: 0.4704 - val_loss: 0.4711 - val_auc: 0.8522 - val_precision: 0.7437 - val_recall: 0.7732 - val_regularization_loss: 0.0000e+00 - val_loss_batch: 0.4640\n",
      "Epoch 6/8\n",
      "120/120 [==============================] - 55s 454ms/step - loss: 0.4646 - auc: 0.8553 - precision: 0.7727 - recall: 0.7320 - regularization_loss: 0.0000e+00 - loss_batch: 0.4644 - val_loss: 0.4669 - val_auc: 0.8538 - val_precision: 0.7804 - val_recall: 0.7140 - val_regularization_loss: 0.0000e+00 - val_loss_batch: 0.4612\n",
      "Epoch 7/8\n",
      "120/120 [==============================] - 53s 441ms/step - loss: 0.4617 - auc: 0.8571 - precision: 0.7740 - recall: 0.7327 - regularization_loss: 0.0000e+00 - loss_batch: 0.4615 - val_loss: 0.4652 - val_auc: 0.8550 - val_precision: 0.7866 - val_recall: 0.7057 - val_regularization_loss: 0.0000e+00 - val_loss_batch: 0.4590\n",
      "Epoch 8/8\n",
      "120/120 [==============================] - 54s 446ms/step - loss: 0.4568 - auc: 0.8602 - precision: 0.7776 - recall: 0.7349 - regularization_loss: 0.0000e+00 - loss_batch: 0.4567 - val_loss: 0.4666 - val_auc: 0.8558 - val_precision: 0.7422 - val_recall: 0.7837 - val_regularization_loss: 0.0000e+00 - val_loss_batch: 0.4600\n",
      "CPU times: user 47min 19s, sys: 4min 10s, total: 51min 30s\n",
      "Wall time: 9min 21s\n"
     ]
    },
    {
     "data": {
      "text/plain": [
       "<keras.callbacks.History at 0x7f6e11ab63e0>"
      ]
     },
     "execution_count": 82,
     "metadata": {},
     "output_type": "execute_result"
    }
   ],
   "source": [
    "%%time\n",
    "opt = tf.keras.optimizers.legacy.Adagrad(learning_rate=LR*5)\n",
    "model.compile(optimizer=opt, run_eagerly=False, metrics=metrics)\n",
    "model.fit(train_processed, validation_data=test_processed, batch_size=batch_size//2, epochs=8)"
   ]
  },
  {
   "cell_type": "markdown",
   "id": "4d9bd76d-7f07-41db-8ea9-de0ec78d6d50",
   "metadata": {},
   "source": [
    "val_loss: 0.5028 - val_auc: 0.8365 - val_precision: 0.7053 - val_recall: 0.8006 - val_regularization_loss: 0.0000e+00 - val_loss_batch: 0.4982"
   ]
  },
  {
   "cell_type": "code",
   "execution_count": 16,
   "id": "5515a709-f120-4c5f-abf4-2642650087af",
   "metadata": {},
   "outputs": [],
   "source": [
    "#save_results_custom(\"Wide&Deep\", model, results_path)"
   ]
  },
  {
   "cell_type": "code",
   "execution_count": 41,
   "id": "15dfef9c-2bcd-4f9a-94f8-717fc8c5a43c",
   "metadata": {},
   "outputs": [],
   "source": [
    "#model.save(os.path.join(MODELS_FOLDER, \"wandd\"))"
   ]
  },
  {
   "cell_type": "code",
   "execution_count": 12,
   "id": "9760e5f8-75e3-4c7f-83a7-b07079362251",
   "metadata": {},
   "outputs": [],
   "source": [
    "model = mm.DCNModel(\n",
    "    schema,\n",
    "    depth=1,\n",
    "    deep_block=mm.MLPBlock([64, 32]),\n",
    "    prediction_tasks=mm.BinaryOutput(target_column),\n",
    ")"
   ]
  },
  {
   "cell_type": "code",
   "execution_count": 13,
   "id": "1074c11b-03dd-4839-a3da-f1c5b0962ed1",
   "metadata": {},
   "outputs": [
    {
     "name": "stderr",
     "output_type": "stream",
     "text": [
      "2024-08-30 10:59:55.908968: I tensorflow/compiler/xla/stream_executor/cuda/cuda_blas.cc:655] TensorFloat-32 will be used for the matrix multiplication. This will only be logged once.\n"
     ]
    },
    {
     "name": "stdout",
     "output_type": "stream",
     "text": [
      "Epoch 1/8\n"
     ]
    },
    {
     "name": "stderr",
     "output_type": "stream",
     "text": [
      "2024-08-30 10:59:56.495471: I tensorflow/core/common_runtime/executor.cc:1209] [/device:CPU:0] (DEBUG INFO) Executor start aborting (this does not indicate an error and you can ignore this message): INVALID_ARGUMENT: You must feed a value for placeholder tensor 'Placeholder/_0' with dtype int32\n",
      "\t [[{{node Placeholder/_0}}]]\n"
     ]
    },
    {
     "name": "stdout",
     "output_type": "stream",
     "text": [
      "120/120 [==============================] - ETA: 0s - loss: 0.5974 - auc: 0.7367 - precision: 0.6723 - recall: 0.6053 - regularization_loss: 0.0000e+00 - loss_batch: 0.5974"
     ]
    },
    {
     "name": "stderr",
     "output_type": "stream",
     "text": [
      "2024-08-30 11:00:06.801028: I tensorflow/core/common_runtime/executor.cc:1209] [/device:CPU:0] (DEBUG INFO) Executor start aborting (this does not indicate an error and you can ignore this message): INVALID_ARGUMENT: You must feed a value for placeholder tensor 'Placeholder/_0' with dtype int32\n",
      "\t [[{{node Placeholder/_0}}]]\n"
     ]
    },
    {
     "name": "stdout",
     "output_type": "stream",
     "text": [
      "120/120 [==============================] - 12s 45ms/step - loss: 0.5974 - auc: 0.7367 - precision: 0.6723 - recall: 0.6053 - regularization_loss: 0.0000e+00 - loss_batch: 0.5969 - val_loss: 0.5478 - val_auc: 0.7998 - val_precision: 0.7544 - val_recall: 0.6068 - val_regularization_loss: 0.0000e+00 - val_loss_batch: 0.5444\n",
      "Epoch 2/8\n",
      "120/120 [==============================] - 4s 30ms/step - loss: 0.5405 - auc: 0.7973 - precision: 0.7132 - recall: 0.6856 - regularization_loss: 0.0000e+00 - loss_batch: 0.5403 - val_loss: 0.5262 - val_auc: 0.8146 - val_precision: 0.7554 - val_recall: 0.6431 - val_regularization_loss: 0.0000e+00 - val_loss_batch: 0.5254\n",
      "Epoch 3/8\n",
      "120/120 [==============================] - 5s 37ms/step - loss: 0.5244 - auc: 0.8101 - precision: 0.7240 - recall: 0.6955 - regularization_loss: 0.0000e+00 - loss_batch: 0.5245 - val_loss: 0.5259 - val_auc: 0.8212 - val_precision: 0.7982 - val_recall: 0.5768 - val_regularization_loss: 0.0000e+00 - val_loss_batch: 0.5230\n",
      "Epoch 4/8\n",
      "120/120 [==============================] - 4s 34ms/step - loss: 0.5133 - auc: 0.8185 - precision: 0.7329 - recall: 0.7000 - regularization_loss: 0.0000e+00 - loss_batch: 0.5131 - val_loss: 0.5027 - val_auc: 0.8286 - val_precision: 0.7569 - val_recall: 0.6814 - val_regularization_loss: 0.0000e+00 - val_loss_batch: 0.4983\n",
      "Epoch 5/8\n",
      "120/120 [==============================] - 4s 34ms/step - loss: 0.5044 - auc: 0.8247 - precision: 0.7394 - recall: 0.7032 - regularization_loss: 0.0000e+00 - loss_batch: 0.5042 - val_loss: 0.4930 - val_auc: 0.8334 - val_precision: 0.7476 - val_recall: 0.7129 - val_regularization_loss: 0.0000e+00 - val_loss_batch: 0.4850\n",
      "Epoch 6/8\n",
      "120/120 [==============================] - 4s 35ms/step - loss: 0.4954 - auc: 0.8312 - precision: 0.7462 - recall: 0.7071 - regularization_loss: 0.0000e+00 - loss_batch: 0.4954 - val_loss: 0.5081 - val_auc: 0.8323 - val_precision: 0.6914 - val_recall: 0.8103 - val_regularization_loss: 0.0000e+00 - val_loss_batch: 0.4927\n",
      "Epoch 7/8\n",
      "120/120 [==============================] - 4s 35ms/step - loss: 0.4897 - auc: 0.8350 - precision: 0.7506 - recall: 0.7087 - regularization_loss: 0.0000e+00 - loss_batch: 0.4896 - val_loss: 0.4882 - val_auc: 0.8381 - val_precision: 0.7280 - val_recall: 0.7597 - val_regularization_loss: 0.0000e+00 - val_loss_batch: 0.4746\n",
      "Epoch 8/8\n",
      "120/120 [==============================] - 4s 36ms/step - loss: 0.4812 - auc: 0.8412 - precision: 0.7578 - recall: 0.7142 - regularization_loss: 0.0000e+00 - loss_batch: 0.4810 - val_loss: 0.4768 - val_auc: 0.8448 - val_precision: 0.7473 - val_recall: 0.7431 - val_regularization_loss: 0.0000e+00 - val_loss_batch: 0.4661\n",
      "CPU times: user 1min 15s, sys: 12 s, total: 1min 27s\n",
      "Wall time: 45.7 s\n"
     ]
    },
    {
     "data": {
      "text/plain": [
       "<keras.callbacks.History at 0x7f530814c3d0>"
      ]
     },
     "execution_count": 13,
     "metadata": {},
     "output_type": "execute_result"
    }
   ],
   "source": [
    "%%time\n",
    "\n",
    "opt = tf.keras.optimizers.legacy.Adagrad(learning_rate=LR*10)\n",
    "model.compile(optimizer=opt, run_eagerly=False, metrics=metrics)\n",
    "model.fit(train_processed, validation_data=test_processed, batch_size=batch_size//2, epochs=8)"
   ]
  },
  {
   "cell_type": "code",
   "execution_count": 162,
   "id": "600449d3-b8c1-4c26-957a-3effcb2272e7",
   "metadata": {},
   "outputs": [],
   "source": [
    "save_results_custom(\"DCN\", model, results_path)"
   ]
  },
  {
   "cell_type": "code",
   "execution_count": 55,
   "id": "f7599ad9-eb27-48b7-a147-8b6e6c2e7091",
   "metadata": {},
   "outputs": [],
   "source": [
    "model.save(os.path.join(MODELS_FOLDER, \"DCN\"))"
   ]
  },
  {
   "cell_type": "code",
   "execution_count": 14,
   "id": "9c6e6a65-db96-4011-9665-7646e91ad59c",
   "metadata": {},
   "outputs": [],
   "source": [
    "# uses default embedding_dim = 64\n",
    "model = mm.Model.from_block(mm.MLPBlock([64, 32]),\n",
    "    schema, prediction_tasks=mm.BinaryOutput(target_column)\n",
    ")\n"
   ]
  },
  {
   "cell_type": "code",
   "execution_count": 15,
   "id": "42006056-b138-4598-be0c-336b7d64e25d",
   "metadata": {},
   "outputs": [
    {
     "name": "stderr",
     "output_type": "stream",
     "text": [
      "/usr/local/lib/python3.10/dist-packages/keras/initializers/initializers.py:120: UserWarning: The initializer TruncatedNormal is unseeded and being called multiple times, which will return identical values each time (even if the initializer is unseeded). Please update your code to provide a seed to the initializer, or avoid using the same initalizer instance more than once.\n",
      "  warnings.warn(\n"
     ]
    },
    {
     "name": "stdout",
     "output_type": "stream",
     "text": [
      "Epoch 1/10\n"
     ]
    },
    {
     "name": "stderr",
     "output_type": "stream",
     "text": [
      "2024-08-30 11:02:33.962389: I tensorflow/core/common_runtime/executor.cc:1209] [/device:CPU:0] (DEBUG INFO) Executor start aborting (this does not indicate an error and you can ignore this message): INVALID_ARGUMENT: You must feed a value for placeholder tensor 'Placeholder/_0' with dtype int32\n",
      "\t [[{{node Placeholder/_0}}]]\n"
     ]
    },
    {
     "name": "stdout",
     "output_type": "stream",
     "text": [
      "60/60 [==============================] - ETA: 0s - loss: 0.6291 - auc: 0.7174 - precision: 0.6903 - recall: 0.5361 - regularization_loss: 0.0000e+00 - loss_batch: 0.6290"
     ]
    },
    {
     "name": "stderr",
     "output_type": "stream",
     "text": [
      "2024-08-30 11:02:40.259799: I tensorflow/core/common_runtime/executor.cc:1209] [/device:CPU:0] (DEBUG INFO) Executor start aborting (this does not indicate an error and you can ignore this message): INVALID_ARGUMENT: You must feed a value for placeholder tensor 'Placeholder/_0' with dtype int32\n",
      "\t [[{{node Placeholder/_0}}]]\n"
     ]
    },
    {
     "name": "stdout",
     "output_type": "stream",
     "text": [
      "60/60 [==============================] - 7s 58ms/step - loss: 0.6291 - auc: 0.7174 - precision: 0.6903 - recall: 0.5361 - regularization_loss: 0.0000e+00 - loss_batch: 0.6283 - val_loss: 0.5836 - val_auc: 0.7624 - val_precision: 0.6906 - val_recall: 0.6627 - val_regularization_loss: 0.0000e+00 - val_loss_batch: 0.5838\n",
      "Epoch 2/10\n",
      "60/60 [==============================] - 4s 52ms/step - loss: 0.5669 - auc: 0.7767 - precision: 0.6974 - recall: 0.6771 - regularization_loss: 0.0000e+00 - loss_batch: 0.5666 - val_loss: 0.5572 - val_auc: 0.7853 - val_precision: 0.6814 - val_recall: 0.7254 - val_regularization_loss: 0.0000e+00 - val_loss_batch: 0.5556\n",
      "Epoch 3/10\n",
      "60/60 [==============================] - 3s 43ms/step - loss: 0.5509 - auc: 0.7896 - precision: 0.7067 - recall: 0.6836 - regularization_loss: 0.0000e+00 - loss_batch: 0.5508 - val_loss: 0.5461 - val_auc: 0.7964 - val_precision: 0.6810 - val_recall: 0.7484 - val_regularization_loss: 0.0000e+00 - val_loss_batch: 0.5450\n",
      "Epoch 4/10\n",
      "60/60 [==============================] - 3s 36ms/step - loss: 0.5395 - auc: 0.7993 - precision: 0.7147 - recall: 0.6901 - regularization_loss: 0.0000e+00 - loss_batch: 0.5393 - val_loss: 0.5329 - val_auc: 0.8052 - val_precision: 0.7038 - val_recall: 0.7244 - val_regularization_loss: 0.0000e+00 - val_loss_batch: 0.5326\n",
      "Epoch 5/10\n",
      "60/60 [==============================] - 3s 42ms/step - loss: 0.5317 - auc: 0.8055 - precision: 0.7216 - recall: 0.6928 - regularization_loss: 0.0000e+00 - loss_batch: 0.5317 - val_loss: 0.5345 - val_auc: 0.8079 - val_precision: 0.6828 - val_recall: 0.7716 - val_regularization_loss: 0.0000e+00 - val_loss_batch: 0.5333\n",
      "Epoch 6/10\n",
      "60/60 [==============================] - 3s 38ms/step - loss: 0.5252 - auc: 0.8105 - precision: 0.7260 - recall: 0.6948 - regularization_loss: 0.0000e+00 - loss_batch: 0.5251 - val_loss: 0.5277 - val_auc: 0.8126 - val_precision: 0.6893 - val_recall: 0.7706 - val_regularization_loss: 0.0000e+00 - val_loss_batch: 0.5266\n",
      "Epoch 7/10\n",
      "60/60 [==============================] - 3s 48ms/step - loss: 0.5207 - auc: 0.8139 - precision: 0.7301 - recall: 0.6967 - regularization_loss: 0.0000e+00 - loss_batch: 0.5206 - val_loss: 0.5243 - val_auc: 0.8155 - val_precision: 0.6909 - val_recall: 0.7745 - val_regularization_loss: 0.0000e+00 - val_loss_batch: 0.5230\n",
      "Epoch 8/10\n",
      "60/60 [==============================] - 3s 45ms/step - loss: 0.5178 - auc: 0.8157 - precision: 0.7312 - recall: 0.6966 - regularization_loss: 0.0000e+00 - loss_batch: 0.5177 - val_loss: 0.5156 - val_auc: 0.8195 - val_precision: 0.7072 - val_recall: 0.7543 - val_regularization_loss: 0.0000e+00 - val_loss_batch: 0.5149\n",
      "Epoch 9/10\n",
      "60/60 [==============================] - 3s 38ms/step - loss: 0.5103 - auc: 0.8217 - precision: 0.7370 - recall: 0.7028 - regularization_loss: 0.0000e+00 - loss_batch: 0.5103 - val_loss: 0.5155 - val_auc: 0.8232 - val_precision: 0.7791 - val_recall: 0.6221 - val_regularization_loss: 0.0000e+00 - val_loss_batch: 0.5172\n",
      "Epoch 10/10\n",
      "60/60 [==============================] - 3s 38ms/step - loss: 0.5113 - auc: 0.8204 - precision: 0.7364 - recall: 0.6987 - regularization_loss: 0.0000e+00 - loss_batch: 0.5111 - val_loss: 0.5079 - val_auc: 0.8252 - val_precision: 0.7664 - val_recall: 0.6516 - val_regularization_loss: 0.0000e+00 - val_loss_batch: 0.5087\n",
      "CPU times: user 50.1 s, sys: 9.65 s, total: 59.8 s\n",
      "Wall time: 34.7 s\n"
     ]
    },
    {
     "data": {
      "text/plain": [
       "<keras.callbacks.History at 0x7f54065df1c0>"
      ]
     },
     "execution_count": 15,
     "metadata": {},
     "output_type": "execute_result"
    }
   ],
   "source": [
    "%%time\n",
    "\n",
    "opt = tf.keras.optimizers.legacy.Adagrad(learning_rate=LR*4)\n",
    "model.compile(optimizer=opt, run_eagerly=False, metrics=metrics)\n",
    "model.fit(train_processed, validation_data=test_processed, batch_size=batch_size, epochs=10)"
   ]
  },
  {
   "cell_type": "code",
   "execution_count": null,
   "id": "12ffb8b6-a3fb-4829-b692-90069efd4cb4",
   "metadata": {},
   "outputs": [],
   "source": []
  }
 ],
 "metadata": {
  "kernelspec": {
   "display_name": "Python 3 (ipykernel)",
   "language": "python",
   "name": "python3"
  },
  "language_info": {
   "codemirror_mode": {
    "name": "ipython",
    "version": 3
   },
   "file_extension": ".py",
   "mimetype": "text/x-python",
   "name": "python",
   "nbconvert_exporter": "python",
   "pygments_lexer": "ipython3",
   "version": "3.10.12"
  }
 },
 "nbformat": 4,
 "nbformat_minor": 5
}
