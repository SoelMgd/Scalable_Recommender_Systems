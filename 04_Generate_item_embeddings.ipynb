{
 "cells": [
  {
   "cell_type": "markdown",
   "metadata": {},
   "source": [
    "Le but de ce notebook est de générer les embeddings des items à partir de leurs description.\n",
    "\n",
    "Ces embeddings seront ensuite utilisés dans le conteneur avec Merlin en les stockant dans Feast."
   ]
  },
  {
   "cell_type": "code",
   "execution_count": null,
   "metadata": {},
   "outputs": [],
   "source": [
    "#!pip install -U fashion-clip\n",
    "#!pip install torch"
   ]
  },
  {
   "cell_type": "code",
   "execution_count": null,
   "metadata": {},
   "outputs": [],
   "source": [
    "from fashion_clip.fashion_clip import FashionCLIP\n",
    "import pandas as pd\n",
    "import numpy as np\n",
    "from collections import Counter\n",
    "from PIL import Image\n",
    "import numpy as np\n",
    "import os"
   ]
  },
  {
   "cell_type": "code",
   "execution_count": null,
   "metadata": {},
   "outputs": [],
   "source": [
    "import torch"
   ]
  },
  {
   "cell_type": "markdown",
   "metadata": {},
   "source": [
    "On extrait la description des items"
   ]
  },
  {
   "cell_type": "code",
   "execution_count": null,
   "metadata": {},
   "outputs": [],
   "source": [
    "articles = pd.read_csv('/home/smegdoud/HetM_projet/data/articles.csv')\n",
    "data_path = '/home/smegdoud/HetM_projet/data'\n",
    "images = []\n",
    "items = articles['article_id'].unique().tolist()\n",
    "texts = articles.apply(lambda row: f\"{row['product_group_name']} {row['colour_group_name']} {row['graphical_appearance_name']} {row['index_group_name']} {row['section_name']} {row['detail_desc']}\", axis=1).tolist()"
   ]
  },
  {
   "cell_type": "markdown",
   "metadata": {},
   "source": [
    "On liste les paths des images"
   ]
  },
  {
   "cell_type": "code",
   "execution_count": null,
   "metadata": {},
   "outputs": [],
   "source": [
    "images = []\n",
    "for image_id in items:\n",
    "    folder = '0' + str(image_id)[:2]\n",
    "    image_name = '0' + str(image_id) + '.jpg'\n",
    "    image_path = os.path.join(data_path, 'images', folder, image_name)\n",
    "    images.append(image_path)\n",
    "#images"
   ]
  },
  {
   "cell_type": "code",
   "execution_count": null,
   "metadata": {},
   "outputs": [],
   "source": [
    "# Suppression des éléments manquants en commençant par la fin\n",
    "for k in range(len(items) - 1, -1, -1):\n",
    "    image_path = images[k]\n",
    "    if not os.path.isfile(image_path):\n",
    "        del images[k]\n",
    "        del texts[k]\n",
    "        del items[k]"
   ]
  },
  {
   "cell_type": "code",
   "execution_count": null,
   "metadata": {},
   "outputs": [],
   "source": [
    "# Définir le GPU à utiliser\n",
    "os.environ[\"CUDA_VISIBLE_DEVICES\"] = \"3\"\n",
    "\n",
    "# Initialisez FashionCLIP\n",
    "fclip = FashionCLIP('fashion-clip')\n",
    "\n",
    "# On s'assure que le modèle interne utilise le GPU\n",
    "device = torch.device('cuda' if torch.cuda.is_available() else 'cpu')\n",
    "print(torch.cuda.get_device_name(0))\n",
    "fclip.model.to(device)"
   ]
  },
  {
   "cell_type": "markdown",
   "metadata": {},
   "source": [
    "Embedding des images"
   ]
  },
  {
   "cell_type": "code",
   "execution_count": null,
   "metadata": {},
   "outputs": [],
   "source": [
    "# Encodez les images et les textes avec gestion de la mémoire\n",
    "torch.cuda.empty_cache()  # Nettoyez la mémoire GPU\n",
    "batch_size = 16\n",
    "\n",
    "with torch.no_grad():  # Désactivez le calcul des gradients pour économiser la mémoire\n",
    "    #image_embeddings = fclip.encode_images(images, batch_size=batch_size)\n",
    "    text_embeddings = fclip.encode_text(texts, batch_size=batch_size)\n",
    "\n",
    "# we normalize the embeddings to unit norm (so that we can use dot product instead of cosine similarity to do comparisons)\n",
    "#image_embeddings = image_embeddings/np.linalg.norm(image_embeddings, ord=2, axis=-1, keepdims=True)\n",
    "text_embeddings = text_embeddings/np.linalg.norm(text_embeddings, ord=2, axis=-1, keepdims=True)"
   ]
  },
  {
   "cell_type": "code",
   "execution_count": null,
   "metadata": {},
   "outputs": [],
   "source": [
    "# Convertir les embeddings en DataFrame\n",
    "#image_df = pd.DataFrame(image_embeddings).astype('float32')\n",
    "text_df = pd.DataFrame(text_embeddings).astype('float32')\n",
    "\n",
    "# Sauvegarder les DataFrames en fichiers CSV\n",
    "#image_df.to_csv('image_embeddings.csv', index=False)\n",
    "#text_df.to_csv('text_embeddings.csv', index=False)"
   ]
  },
  {
   "cell_type": "code",
   "execution_count": null,
   "metadata": {},
   "outputs": [],
   "source": [
    "#loaded_image_df = pd.read_csv('image_embeddings.csv')\n",
    "#loaded_text_df = pd.read_csv('text_embeddings.csv')"
   ]
  },
  {
   "cell_type": "code",
   "execution_count": null,
   "metadata": {},
   "outputs": [],
   "source": [
    "items_id_df = pd.DataFrame(items).astype('int32')\n",
    "items_id_df.columns = ['item_id']\n",
    "\n",
    "feast_embeddings = pd.concat([items_id_df, text_df], axis=1)\n",
    "feast_embeddings.head(2)"
   ]
  },
  {
   "cell_type": "code",
   "execution_count": null,
   "metadata": {},
   "outputs": [],
   "source": [
    "faiss_embeddings = feast_embeddings.copy()\n",
    "embedding_columns = faiss_embeddings.columns[1:]\n",
    "faiss_embeddings['embedding'] = faiss_embeddings[embedding_columns].apply(lambda row: row.tolist(), axis=1)\n",
    "faiss_embeddings = faiss_embeddings[['item_id', 'embedding']]\n",
    "faiss_embeddings\n"
   ]
  },
  {
   "cell_type": "code",
   "execution_count": null,
   "metadata": {},
   "outputs": [],
   "source": [
    "faiss_embeddings.dtypes"
   ]
  },
  {
   "cell_type": "markdown",
   "metadata": {},
   "source": [
    "Export pour l'utiliser plus tard dans la pipeline"
   ]
  },
  {
   "cell_type": "code",
   "execution_count": null,
   "metadata": {},
   "outputs": [],
   "source": [
    "faiss_embeddings.to_csv('faiss_items_embeddings.csv')"
   ]
  }
 ],
 "metadata": {
  "interpreter": {
   "hash": "f488c32386b483533730f17b92e81ca5763585d17cc3a07d5b4ff3a804794b4e"
  },
  "kernelspec": {
   "display_name": "Python 3 (ipykernel)",
   "language": "python",
   "name": "python3"
  },
  "language_info": {
   "codemirror_mode": {
    "name": "ipython",
    "version": 3
   },
   "file_extension": ".py",
   "mimetype": "text/x-python",
   "name": "python",
   "nbconvert_exporter": "python",
   "pygments_lexer": "ipython3",
   "version": "3.10.12"
  }
 },
 "nbformat": 4,
 "nbformat_minor": 4
}
